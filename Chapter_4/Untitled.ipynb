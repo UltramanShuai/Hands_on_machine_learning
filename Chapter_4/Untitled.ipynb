{
 "cells": [
  {
   "cell_type": "code",
   "execution_count": 1,
   "metadata": {},
   "outputs": [],
   "source": [
    "import numpy as np\n",
    "X = 2 * np.random.rand(100, 1)\n",
    "y= 4 + 3 * X + np.random.randn(100, 1)"
   ]
  },
  {
   "cell_type": "code",
   "execution_count": 2,
   "metadata": {},
   "outputs": [
    {
     "data": {
      "text/plain": [
       "array([[7.81211058],\n",
       "       [8.89206513],\n",
       "       [1.92506684],\n",
       "       [9.37044897],\n",
       "       [8.8720842 ]])"
      ]
     },
     "execution_count": 2,
     "metadata": {},
     "output_type": "execute_result"
    }
   ],
   "source": [
    "y[:5]"
   ]
  },
  {
   "cell_type": "code",
   "execution_count": 3,
   "metadata": {},
   "outputs": [],
   "source": [
    "import matplotlib\n",
    "import matplotlib.pyplot as plt\n",
    "%matplotlib inline"
   ]
  },
  {
   "cell_type": "code",
   "execution_count": 4,
   "metadata": {},
   "outputs": [
    {
     "data": {
      "text/plain": [
       "(0, 2)"
      ]
     },
     "execution_count": 4,
     "metadata": {},
     "output_type": "execute_result"
    },
    {
     "data": {
      "image/png": "[encoded data removed]",
      "text/plain": [
       "<Figure size 432x288 with 1 Axes>"
      ]
     },
     "metadata": {
      "needs_background": "light"
     },
     "output_type": "display_data"
    }
   ],
   "source": [
    "plt.scatter(X,y,s=10)\n",
    "plt.ylim(0,15)\n",
    "plt.xlim(0,2)"
   ]
  },
  {
   "cell_type": "markdown",
   "metadata": {},
   "source": [
    "### The Normal Equation"
   ]
  },
  {
   "cell_type": "code",
   "execution_count": 5,
   "metadata": {},
   "outputs": [
    {
     "data": {
      "text/plain": [
       "array([[3.9423442 ],\n",
       "       [3.09164067]])"
      ]
     },
     "execution_count": 5,
     "metadata": {},
     "output_type": "execute_result"
    }
   ],
   "source": [
    "X_b = np.c_[np.ones((100, 1)), X]\n",
    "theta_best = np.linalg.inv(X_b.T.dot(X_b)).dot(X_b.T).dot(y)\n",
    "theta_best"
   ]
  },
  {
   "cell_type": "markdown",
   "metadata": {},
   "source": [
    "### Prediction"
   ]
  },
  {
   "cell_type": "code",
   "execution_count": 7,
   "metadata": {},
   "outputs": [
    {
     "data": {
      "text/plain": [
       "array([[ 3.9423442 ],\n",
       "       [10.12562554]])"
      ]
     },
     "execution_count": 7,
     "metadata": {},
     "output_type": "execute_result"
    }
   ],
   "source": [
    "X_new = np.array([[0], [2]]) \n",
    "X_new_b = np.c_[np.ones((2, 1)), X_new] # add x0 = 1 to each instance\n",
    "\n",
    "\n",
    "y_predict = X_new_b.dot(theta_best)\n",
    "\n",
    "y_predict"
   ]
  },
  {
   "cell_type": "code",
   "execution_count": 8,
   "metadata": {},
   "outputs": [
    {
     "data": {
      "image/png": "[encoded data removed]",
      "text/plain": [
       "<Figure size 432x288 with 1 Axes>"
      ]
     },
     "metadata": {
      "needs_background": "light"
     },
     "output_type": "display_data"
    }
   ],
   "source": [
    "plt.plot(X_new, y_predict, \"r-\")\n",
    "plt.plot(X, y, \"b.\") \n",
    "plt.axis([0, 2, 0, 15])\n",
    "plt.show()"
   ]
  },
  {
   "cell_type": "markdown",
   "metadata": {},
   "source": [
    "### Same result using sklearn"
   ]
  },
  {
   "cell_type": "code",
   "execution_count": 9,
   "metadata": {},
   "outputs": [
    {
     "data": {
      "text/plain": [
       "LinearRegression(copy_X=True, fit_intercept=True, n_jobs=None,\n",
       "         normalize=False)"
      ]
     },
     "execution_count": 9,
     "metadata": {},
     "output_type": "execute_result"
    }
   ],
   "source": [
    "from sklearn.linear_model import LinearRegression\n",
    "lin_reg = LinearRegression()\n",
    "lin_reg.fit(X, y)"
   ]
  },
  {
   "cell_type": "code",
   "execution_count": 10,
   "metadata": {},
   "outputs": [
    {
     "data": {
      "text/plain": [
       "array([3.9423442])"
      ]
     },
     "execution_count": 10,
     "metadata": {},
     "output_type": "execute_result"
    }
   ],
   "source": [
    "lin_reg.intercept_"
   ]
  },
  {
   "cell_type": "code",
   "execution_count": 11,
   "metadata": {},
   "outputs": [
    {
     "data": {
      "text/plain": [
       "array([[3.09164067]])"
      ]
     },
     "execution_count": 11,
     "metadata": {},
     "output_type": "execute_result"
    }
   ],
   "source": [
    "lin_reg.coef_"
   ]
  },
  {
   "cell_type": "code",
   "execution_count": 14,
   "metadata": {},
   "outputs": [
    {
     "data": {
      "text/plain": [
       "array([[ 4.0687624 ],\n",
       "       [10.18682467]])"
      ]
     },
     "execution_count": 14,
     "metadata": {},
     "output_type": "execute_result"
    }
   ],
   "source": [
    "lin_reg.predict(X_new)"
   ]
  },
  {
   "cell_type": "markdown",
   "metadata": {},
   "source": [
    "### Batch Gradient Descent"
   ]
  },
  {
   "cell_type": "code",
   "execution_count": 29,
   "metadata": {},
   "outputs": [],
   "source": [
    "eta = 0.1 # learning rate \n",
    "n_iterations = 1000\n",
    "m = len(X_b)"
   ]
  },
  {
   "cell_type": "code",
   "execution_count": 16,
   "metadata": {},
   "outputs": [],
   "source": [
    "theta = np.random.randn(2,1) # 两行 0-1之间的随机数"
   ]
  },
  {
   "cell_type": "code",
   "execution_count": 37,
   "metadata": {},
   "outputs": [],
   "source": [
    "for iteration in range(n_iterations):\n",
    "    gradients = 2/m * X_b.T.dot(X_b.dot(theta) - y)  # the formula of gradient\n",
    "    theta = theta - eta * gradients     # next step theta"
   ]
  },
  {
   "cell_type": "code",
   "execution_count": 20,
   "metadata": {},
   "outputs": [
    {
     "data": {
      "text/plain": [
       "array([[3.9423442 ],\n",
       "       [3.09164067]])"
      ]
     },
     "execution_count": 20,
     "metadata": {},
     "output_type": "execute_result"
    }
   ],
   "source": [
    "theta"
   ]
  },
  {
   "cell_type": "code",
   "execution_count": 42,
   "metadata": {},
   "outputs": [
    {
     "name": "stdout",
     "output_type": "stream",
     "text": [
      "[[2.91144886e-13]\n",
      " [2.66184102e-13]]\n",
      "[[2.91144886e-13]\n",
      " [2.66184102e-13]]\n",
      "[[2.91144886e-13]\n",
      " [2.66184102e-13]]\n",
      "[[2.91144886e-13]\n",
      " [2.66184102e-13]]\n",
      "[[2.91144886e-13]\n",
      " [2.66184102e-13]]\n",
      "[[2.91144886e-13]\n",
      " [2.66184102e-13]]\n",
      "[[2.91144886e-13]\n",
      " [2.66184102e-13]]\n",
      "[[2.91144886e-13]\n",
      " [2.66184102e-13]]\n",
      "[[2.91144886e-13]\n",
      " [2.66184102e-13]]\n",
      "[[2.91144886e-13]\n",
      " [2.66184102e-13]]\n",
      "[[2.91144886e-13]\n",
      " [2.66184102e-13]]\n",
      "[[2.91144886e-13]\n",
      " [2.66184102e-13]]\n",
      "[[2.91144886e-13]\n",
      " [2.66184102e-13]]\n",
      "[[2.91144886e-13]\n",
      " [2.66184102e-13]]\n",
      "[[2.91144886e-13]\n",
      " [2.66184102e-13]]\n",
      "[[2.91144886e-13]\n",
      " [2.66184102e-13]]\n",
      "[[2.91144886e-13]\n",
      " [2.66184102e-13]]\n",
      "[[2.91144886e-13]\n",
      " [2.66184102e-13]]\n",
      "[[2.91144886e-13]\n",
      " [2.66184102e-13]]\n",
      "[[2.91144886e-13]\n",
      " [2.66184102e-13]]\n",
      "[[2.91144886e-13]\n",
      " [2.66184102e-13]]\n",
      "[[2.91144886e-13]\n",
      " [2.66184102e-13]]\n",
      "[[2.91144886e-13]\n",
      " [2.66184102e-13]]\n",
      "[[2.91144886e-13]\n",
      " [2.66184102e-13]]\n",
      "[[2.91144886e-13]\n",
      " [2.66184102e-13]]\n",
      "[[2.91144886e-13]\n",
      " [2.66184102e-13]]\n",
      "[[2.91144886e-13]\n",
      " [2.66184102e-13]]\n",
      "[[2.91144886e-13]\n",
      " [2.66184102e-13]]\n",
      "[[2.91144886e-13]\n",
      " [2.66184102e-13]]\n",
      "[[2.91144886e-13]\n",
      " [2.66184102e-13]]\n",
      "[[2.91144886e-13]\n",
      " [2.66184102e-13]]\n",
      "[[2.91144886e-13]\n",
      " [2.66184102e-13]]\n",
      "[[2.91144886e-13]\n",
      " [2.66184102e-13]]\n",
      "[[2.91144886e-13]\n",
      " [2.66184102e-13]]\n",
      "[[2.91144886e-13]\n",
      " [2.66184102e-13]]\n",
      "[[2.91144886e-13]\n",
      " [2.66184102e-13]]\n",
      "[[2.91144886e-13]\n",
      " [2.66184102e-13]]\n",
      "[[2.91144886e-13]\n",
      " [2.66184102e-13]]\n",
      "[[2.91144886e-13]\n",
      " [2.66184102e-13]]\n",
      "[[2.91144886e-13]\n",
      " [2.66184102e-13]]\n",
      "[[2.91144886e-13]\n",
      " [2.66184102e-13]]\n",
      "[[2.91144886e-13]\n",
      " [2.66184102e-13]]\n",
      "[[2.91144886e-13]\n",
      " [2.66184102e-13]]\n",
      "[[2.91144886e-13]\n",
      " [2.66184102e-13]]\n",
      "[[2.91144886e-13]\n",
      " [2.66184102e-13]]\n",
      "[[2.91144886e-13]\n",
      " [2.66184102e-13]]\n",
      "[[2.91144886e-13]\n",
      " [2.66184102e-13]]\n",
      "[[2.91144886e-13]\n",
      " [2.66184102e-13]]\n",
      "[[2.91144886e-13]\n",
      " [2.66184102e-13]]\n",
      "[[2.91144886e-13]\n",
      " [2.66184102e-13]]\n",
      "[[2.91144886e-13]\n",
      " [2.66184102e-13]]\n",
      "[[2.91144886e-13]\n",
      " [2.66184102e-13]]\n",
      "[[2.91144886e-13]\n",
      " [2.66184102e-13]]\n",
      "[[2.91144886e-13]\n",
      " [2.66184102e-13]]\n",
      "[[2.91144886e-13]\n",
      " [2.66184102e-13]]\n",
      "[[2.91144886e-13]\n",
      " [2.66184102e-13]]\n",
      "[[2.91144886e-13]\n",
      " [2.66184102e-13]]\n",
      "[[2.91144886e-13]\n",
      " [2.66184102e-13]]\n",
      "[[2.91144886e-13]\n",
      " [2.66184102e-13]]\n",
      "[[2.91144886e-13]\n",
      " [2.66184102e-13]]\n",
      "[[2.91144886e-13]\n",
      " [2.66184102e-13]]\n",
      "[[2.91144886e-13]\n",
      " [2.66184102e-13]]\n",
      "[[2.91144886e-13]\n",
      " [2.66184102e-13]]\n",
      "[[2.91144886e-13]\n",
      " [2.66184102e-13]]\n",
      "[[2.91144886e-13]\n",
      " [2.66184102e-13]]\n",
      "[[2.91144886e-13]\n",
      " [2.66184102e-13]]\n",
      "[[2.91144886e-13]\n",
      " [2.66184102e-13]]\n",
      "[[2.91144886e-13]\n",
      " [2.66184102e-13]]\n",
      "[[2.91144886e-13]\n",
      " [2.66184102e-13]]\n",
      "[[2.91144886e-13]\n",
      " [2.66184102e-13]]\n",
      "[[2.91144886e-13]\n",
      " [2.66184102e-13]]\n",
      "[[2.91144886e-13]\n",
      " [2.66184102e-13]]\n",
      "[[2.91144886e-13]\n",
      " [2.66184102e-13]]\n",
      "[[2.91144886e-13]\n",
      " [2.66184102e-13]]\n",
      "[[2.91144886e-13]\n",
      " [2.66184102e-13]]\n",
      "[[2.91144886e-13]\n",
      " [2.66184102e-13]]\n",
      "[[2.91144886e-13]\n",
      " [2.66184102e-13]]\n",
      "[[2.91144886e-13]\n",
      " [2.66184102e-13]]\n",
      "[[2.91144886e-13]\n",
      " [2.66184102e-13]]\n",
      "[[2.91144886e-13]\n",
      " [2.66184102e-13]]\n",
      "[[2.91144886e-13]\n",
      " [2.66184102e-13]]\n",
      "[[2.91144886e-13]\n",
      " [2.66184102e-13]]\n",
      "[[2.91144886e-13]\n",
      " [2.66184102e-13]]\n",
      "[[2.91144886e-13]\n",
      " [2.66184102e-13]]\n",
      "[[2.91144886e-13]\n",
      " [2.66184102e-13]]\n",
      "[[2.91144886e-13]\n",
      " [2.66184102e-13]]\n",
      "[[2.91144886e-13]\n",
      " [2.66184102e-13]]\n",
      "[[2.91144886e-13]\n",
      " [2.66184102e-13]]\n",
      "[[2.91144886e-13]\n",
      " [2.66184102e-13]]\n",
      "[[2.91144886e-13]\n",
      " [2.66184102e-13]]\n",
      "[[2.91144886e-13]\n",
      " [2.66184102e-13]]\n",
      "[[2.91144886e-13]\n",
      " [2.66184102e-13]]\n",
      "[[2.91144886e-13]\n",
      " [2.66184102e-13]]\n",
      "[[2.91144886e-13]\n",
      " [2.66184102e-13]]\n",
      "[[2.91144886e-13]\n",
      " [2.66184102e-13]]\n",
      "[[2.91144886e-13]\n",
      " [2.66184102e-13]]\n",
      "[[2.91144886e-13]\n",
      " [2.66184102e-13]]\n",
      "[[2.91144886e-13]\n",
      " [2.66184102e-13]]\n",
      "[[2.91144886e-13]\n",
      " [2.66184102e-13]]\n",
      "[[2.91144886e-13]\n",
      " [2.66184102e-13]]\n",
      "[[2.91144886e-13]\n",
      " [2.66184102e-13]]\n",
      "[[2.91144886e-13]\n",
      " [2.66184102e-13]]\n",
      "[[2.91144886e-13]\n",
      " [2.66184102e-13]]\n",
      "[[2.91144886e-13]\n",
      " [2.66184102e-13]]\n",
      "[[2.91144886e-13]\n",
      " [2.66184102e-13]]\n",
      "[[2.91144886e-13]\n",
      " [2.66184102e-13]]\n",
      "[[2.91144886e-13]\n",
      " [2.66184102e-13]]\n",
      "[[2.91144886e-13]\n",
      " [2.66184102e-13]]\n",
      "[[2.91144886e-13]\n",
      " [2.66184102e-13]]\n",
      "[[2.91144886e-13]\n",
      " [2.66184102e-13]]\n",
      "[[2.91144886e-13]\n",
      " [2.66184102e-13]]\n",
      "[[2.91144886e-13]\n",
      " [2.66184102e-13]]\n",
      "[[2.91144886e-13]\n",
      " [2.66184102e-13]]\n",
      "[[2.91144886e-13]\n",
      " [2.66184102e-13]]\n",
      "[[2.91144886e-13]\n",
      " [2.66184102e-13]]\n",
      "[[2.91144886e-13]\n",
      " [2.66184102e-13]]\n",
      "[[2.91144886e-13]\n",
      " [2.66184102e-13]]\n",
      "[[2.91144886e-13]\n",
      " [2.66184102e-13]]\n",
      "[[2.91144886e-13]\n",
      " [2.66184102e-13]]\n",
      "[[2.91144886e-13]\n",
      " [2.66184102e-13]]\n",
      "[[2.91144886e-13]\n",
      " [2.66184102e-13]]\n",
      "[[2.91144886e-13]\n",
      " [2.66184102e-13]]\n",
      "[[2.91144886e-13]\n",
      " [2.66184102e-13]]\n",
      "[[2.91144886e-13]\n",
      " [2.66184102e-13]]\n",
      "[[2.91144886e-13]\n",
      " [2.66184102e-13]]\n",
      "[[2.91144886e-13]\n",
      " [2.66184102e-13]]\n",
      "[[2.91144886e-13]\n",
      " [2.66184102e-13]]\n",
      "[[2.91144886e-13]\n",
      " [2.66184102e-13]]\n",
      "[[2.91144886e-13]\n",
      " [2.66184102e-13]]\n",
      "[[2.91144886e-13]\n",
      " [2.66184102e-13]]\n",
      "[[2.91144886e-13]\n",
      " [2.66184102e-13]]\n",
      "[[2.91144886e-13]\n",
      " [2.66184102e-13]]\n",
      "[[2.91144886e-13]\n",
      " [2.66184102e-13]]\n",
      "[[2.91144886e-13]\n",
      " [2.66184102e-13]]\n",
      "[[2.91144886e-13]\n",
      " [2.66184102e-13]]\n",
      "[[2.91144886e-13]\n",
      " [2.66184102e-13]]\n",
      "[[2.91144886e-13]\n",
      " [2.66184102e-13]]\n",
      "[[2.91144886e-13]\n",
      " [2.66184102e-13]]\n",
      "[[2.91144886e-13]\n",
      " [2.66184102e-13]]\n",
      "[[2.91144886e-13]\n",
      " [2.66184102e-13]]\n",
      "[[2.91144886e-13]\n",
      " [2.66184102e-13]]\n",
      "[[2.91144886e-13]\n",
      " [2.66184102e-13]]\n",
      "[[2.91144886e-13]\n",
      " [2.66184102e-13]]\n",
      "[[2.91144886e-13]\n",
      " [2.66184102e-13]]\n",
      "[[2.91144886e-13]\n",
      " [2.66184102e-13]]\n",
      "[[2.91144886e-13]\n",
      " [2.66184102e-13]]\n",
      "[[2.91144886e-13]\n",
      " [2.66184102e-13]]\n",
      "[[2.91144886e-13]\n",
      " [2.66184102e-13]]\n",
      "[[2.91144886e-13]\n",
      " [2.66184102e-13]]\n",
      "[[2.91144886e-13]\n",
      " [2.66184102e-13]]\n",
      "[[2.91144886e-13]\n",
      " [2.66184102e-13]]\n",
      "[[2.91144886e-13]\n",
      " [2.66184102e-13]]\n",
      "[[2.91144886e-13]\n",
      " [2.66184102e-13]]\n",
      "[[2.91144886e-13]\n",
      " [2.66184102e-13]]\n",
      "[[2.91144886e-13]\n",
      " [2.66184102e-13]]\n",
      "[[2.91144886e-13]\n",
      " [2.66184102e-13]]\n",
      "[[2.91144886e-13]\n",
      " [2.66184102e-13]]\n",
      "[[2.91144886e-13]\n",
      " [2.66184102e-13]]\n",
      "[[2.91144886e-13]\n",
      " [2.66184102e-13]]\n",
      "[[2.91144886e-13]\n",
      " [2.66184102e-13]]\n",
      "[[2.91144886e-13]\n",
      " [2.66184102e-13]]\n",
      "[[2.91144886e-13]\n",
      " [2.66184102e-13]]\n",
      "[[2.91144886e-13]\n",
      " [2.66184102e-13]]\n",
      "[[2.91144886e-13]\n",
      " [2.66184102e-13]]\n",
      "[[2.91144886e-13]\n",
      " [2.66184102e-13]]\n",
      "[[2.91144886e-13]\n",
      " [2.66184102e-13]]\n",
      "[[2.91144886e-13]\n",
      " [2.66184102e-13]]\n",
      "[[2.91144886e-13]\n",
      " [2.66184102e-13]]\n",
      "[[2.91144886e-13]\n",
      " [2.66184102e-13]]\n",
      "[[2.91144886e-13]\n",
      " [2.66184102e-13]]\n",
      "[[2.91144886e-13]\n",
      " [2.66184102e-13]]\n",
      "[[2.91144886e-13]\n",
      " [2.66184102e-13]]\n",
      "[[2.91144886e-13]\n",
      " [2.66184102e-13]]\n",
      "[[2.91144886e-13]\n",
      " [2.66184102e-13]]\n",
      "[[2.91144886e-13]\n",
      " [2.66184102e-13]]\n",
      "[[2.91144886e-13]\n",
      " [2.66184102e-13]]\n",
      "[[2.91144886e-13]\n",
      " [2.66184102e-13]]\n",
      "[[2.91144886e-13]\n",
      " [2.66184102e-13]]\n",
      "[[2.91144886e-13]\n",
      " [2.66184102e-13]]\n",
      "[[2.91144886e-13]\n",
      " [2.66184102e-13]]\n",
      "[[2.91144886e-13]\n",
      " [2.66184102e-13]]\n",
      "[[2.91144886e-13]\n",
      " [2.66184102e-13]]\n",
      "[[2.91144886e-13]\n",
      " [2.66184102e-13]]\n",
      "[[2.91144886e-13]\n",
      " [2.66184102e-13]]\n",
      "[[2.91144886e-13]\n",
      " [2.66184102e-13]]\n",
      "[[2.91144886e-13]\n",
      " [2.66184102e-13]]\n",
      "[[2.91144886e-13]\n",
      " [2.66184102e-13]]\n",
      "[[2.91144886e-13]\n",
      " [2.66184102e-13]]\n",
      "[[2.91144886e-13]\n",
      " [2.66184102e-13]]\n",
      "[[2.91144886e-13]\n",
      " [2.66184102e-13]]\n",
      "[[2.91144886e-13]\n",
      " [2.66184102e-13]]\n",
      "[[2.91144886e-13]\n",
      " [2.66184102e-13]]\n",
      "[[2.91144886e-13]\n",
      " [2.66184102e-13]]\n",
      "[[2.91144886e-13]\n",
      " [2.66184102e-13]]\n",
      "[[2.91144886e-13]\n",
      " [2.66184102e-13]]\n",
      "[[2.91144886e-13]\n",
      " [2.66184102e-13]]\n",
      "[[2.91144886e-13]\n",
      " [2.66184102e-13]]\n",
      "[[2.91144886e-13]\n",
      " [2.66184102e-13]]\n",
      "[[2.91144886e-13]\n",
      " [2.66184102e-13]]\n",
      "[[2.91144886e-13]\n",
      " [2.66184102e-13]]\n",
      "[[2.91144886e-13]\n",
      " [2.66184102e-13]]\n",
      "[[2.91144886e-13]\n",
      " [2.66184102e-13]]\n",
      "[[2.91144886e-13]\n",
      " [2.66184102e-13]]\n",
      "[[2.91144886e-13]\n",
      " [2.66184102e-13]]\n",
      "[[2.91144886e-13]\n",
      " [2.66184102e-13]]\n",
      "[[2.91144886e-13]\n",
      " [2.66184102e-13]]\n",
      "[[2.91144886e-13]\n",
      " [2.66184102e-13]]\n",
      "[[2.91144886e-13]\n",
      " [2.66184102e-13]]\n",
      "[[2.91144886e-13]\n",
      " [2.66184102e-13]]\n",
      "[[2.91144886e-13]\n",
      " [2.66184102e-13]]\n",
      "[[2.91144886e-13]\n",
      " [2.66184102e-13]]\n",
      "[[2.91144886e-13]\n",
      " [2.66184102e-13]]\n",
      "[[2.91144886e-13]\n",
      " [2.66184102e-13]]\n",
      "[[2.91144886e-13]\n",
      " [2.66184102e-13]]\n",
      "[[2.91144886e-13]\n",
      " [2.66184102e-13]]\n",
      "[[2.91144886e-13]\n",
      " [2.66184102e-13]]\n",
      "[[2.91144886e-13]\n",
      " [2.66184102e-13]]\n",
      "[[2.91144886e-13]\n",
      " [2.66184102e-13]]\n",
      "[[2.91144886e-13]\n",
      " [2.66184102e-13]]\n",
      "[[2.91144886e-13]\n",
      " [2.66184102e-13]]\n",
      "[[2.91144886e-13]\n",
      " [2.66184102e-13]]\n",
      "[[2.91144886e-13]\n",
      " [2.66184102e-13]]\n",
      "[[2.91144886e-13]\n",
      " [2.66184102e-13]]\n",
      "[[2.91144886e-13]\n",
      " [2.66184102e-13]]\n",
      "[[2.91144886e-13]\n",
      " [2.66184102e-13]]\n",
      "[[2.91144886e-13]\n",
      " [2.66184102e-13]]\n",
      "[[2.91144886e-13]\n",
      " [2.66184102e-13]]\n",
      "[[2.91144886e-13]\n",
      " [2.66184102e-13]]\n",
      "[[2.91144886e-13]\n",
      " [2.66184102e-13]]\n",
      "[[2.91144886e-13]\n",
      " [2.66184102e-13]]\n",
      "[[2.91144886e-13]\n",
      " [2.66184102e-13]]\n",
      "[[2.91144886e-13]\n",
      " [2.66184102e-13]]\n",
      "[[2.91144886e-13]\n",
      " [2.66184102e-13]]\n",
      "[[2.91144886e-13]\n",
      " [2.66184102e-13]]\n",
      "[[2.91144886e-13]\n",
      " [2.66184102e-13]]\n",
      "[[2.91144886e-13]\n",
      " [2.66184102e-13]]\n",
      "[[2.91144886e-13]\n",
      " [2.66184102e-13]]\n",
      "[[2.91144886e-13]\n",
      " [2.66184102e-13]]\n",
      "[[2.91144886e-13]\n",
      " [2.66184102e-13]]\n",
      "[[2.91144886e-13]\n",
      " [2.66184102e-13]]\n",
      "[[2.91144886e-13]\n",
      " [2.66184102e-13]]\n",
      "[[2.91144886e-13]\n",
      " [2.66184102e-13]]\n",
      "[[2.91144886e-13]\n",
      " [2.66184102e-13]]\n",
      "[[2.91144886e-13]\n",
      " [2.66184102e-13]]\n",
      "[[2.91144886e-13]\n",
      " [2.66184102e-13]]\n",
      "[[2.91144886e-13]\n",
      " [2.66184102e-13]]\n",
      "[[2.91144886e-13]\n",
      " [2.66184102e-13]]\n",
      "[[2.91144886e-13]\n",
      " [2.66184102e-13]]\n",
      "[[2.91144886e-13]\n",
      " [2.66184102e-13]]\n",
      "[[2.91144886e-13]\n",
      " [2.66184102e-13]]\n",
      "[[2.91144886e-13]\n",
      " [2.66184102e-13]]\n",
      "[[2.91144886e-13]\n",
      " [2.66184102e-13]]\n",
      "[[2.91144886e-13]\n",
      " [2.66184102e-13]]\n",
      "[[2.91144886e-13]\n",
      " [2.66184102e-13]]\n",
      "[[2.91144886e-13]\n",
      " [2.66184102e-13]]\n",
      "[[2.91144886e-13]\n",
      " [2.66184102e-13]]\n",
      "[[2.91144886e-13]\n",
      " [2.66184102e-13]]\n",
      "[[2.91144886e-13]\n",
      " [2.66184102e-13]]\n",
      "[[2.91144886e-13]\n",
      " [2.66184102e-13]]\n",
      "[[2.91144886e-13]\n",
      " [2.66184102e-13]]\n",
      "[[2.91144886e-13]\n",
      " [2.66184102e-13]]\n",
      "[[2.91144886e-13]\n",
      " [2.66184102e-13]]\n",
      "[[2.91144886e-13]\n",
      " [2.66184102e-13]]\n",
      "[[2.91144886e-13]\n",
      " [2.66184102e-13]]\n",
      "[[2.91144886e-13]\n",
      " [2.66184102e-13]]\n",
      "[[2.91144886e-13]\n",
      " [2.66184102e-13]]\n",
      "[[2.91144886e-13]\n",
      " [2.66184102e-13]]\n",
      "[[2.91144886e-13]\n",
      " [2.66184102e-13]]\n",
      "[[2.91144886e-13]\n",
      " [2.66184102e-13]]\n",
      "[[2.91144886e-13]\n",
      " [2.66184102e-13]]\n",
      "[[2.91144886e-13]\n",
      " [2.66184102e-13]]\n",
      "[[2.91144886e-13]\n",
      " [2.66184102e-13]]\n",
      "[[2.91144886e-13]\n",
      " [2.66184102e-13]]\n",
      "[[2.91144886e-13]\n",
      " [2.66184102e-13]]\n",
      "[[2.91144886e-13]\n",
      " [2.66184102e-13]]\n",
      "[[2.91144886e-13]\n",
      " [2.66184102e-13]]\n",
      "[[2.91144886e-13]\n",
      " [2.66184102e-13]]\n",
      "[[2.91144886e-13]\n",
      " [2.66184102e-13]]\n",
      "[[2.91144886e-13]\n",
      " [2.66184102e-13]]\n",
      "[[2.91144886e-13]\n",
      " [2.66184102e-13]]\n",
      "[[2.91144886e-13]\n",
      " [2.66184102e-13]]\n",
      "[[2.91144886e-13]\n",
      " [2.66184102e-13]]\n",
      "[[2.91144886e-13]\n",
      " [2.66184102e-13]]\n",
      "[[2.91144886e-13]\n",
      " [2.66184102e-13]]\n",
      "[[2.91144886e-13]\n",
      " [2.66184102e-13]]\n",
      "[[2.91144886e-13]\n",
      " [2.66184102e-13]]\n",
      "[[2.91144886e-13]\n",
      " [2.66184102e-13]]\n",
      "[[2.91144886e-13]\n",
      " [2.66184102e-13]]\n",
      "[[2.91144886e-13]\n",
      " [2.66184102e-13]]\n",
      "[[2.91144886e-13]\n",
      " [2.66184102e-13]]\n",
      "[[2.91144886e-13]\n",
      " [2.66184102e-13]]\n",
      "[[2.91144886e-13]\n",
      " [2.66184102e-13]]\n",
      "[[2.91144886e-13]\n",
      " [2.66184102e-13]]\n",
      "[[2.91144886e-13]\n",
      " [2.66184102e-13]]\n",
      "[[2.91144886e-13]\n",
      " [2.66184102e-13]]\n",
      "[[2.91144886e-13]\n",
      " [2.66184102e-13]]\n",
      "[[2.91144886e-13]\n",
      " [2.66184102e-13]]\n",
      "[[2.91144886e-13]\n",
      " [2.66184102e-13]]\n",
      "[[2.91144886e-13]\n",
      " [2.66184102e-13]]\n",
      "[[2.91144886e-13]\n",
      " [2.66184102e-13]]\n",
      "[[2.91144886e-13]\n",
      " [2.66184102e-13]]\n",
      "[[2.91144886e-13]\n",
      " [2.66184102e-13]]\n",
      "[[2.91144886e-13]\n",
      " [2.66184102e-13]]\n",
      "[[2.91144886e-13]\n",
      " [2.66184102e-13]]\n",
      "[[2.91144886e-13]\n",
      " [2.66184102e-13]]\n",
      "[[2.91144886e-13]\n",
      " [2.66184102e-13]]\n",
      "[[2.91144886e-13]\n",
      " [2.66184102e-13]]\n",
      "[[2.91144886e-13]\n",
      " [2.66184102e-13]]\n",
      "[[2.91144886e-13]\n",
      " [2.66184102e-13]]\n",
      "[[2.91144886e-13]\n",
      " [2.66184102e-13]]\n",
      "[[2.91144886e-13]\n",
      " [2.66184102e-13]]\n",
      "[[2.91144886e-13]\n",
      " [2.66184102e-13]]\n",
      "[[2.91144886e-13]\n",
      " [2.66184102e-13]]\n",
      "[[2.91144886e-13]\n",
      " [2.66184102e-13]]\n",
      "[[2.91144886e-13]\n",
      " [2.66184102e-13]]\n",
      "[[2.91144886e-13]\n",
      " [2.66184102e-13]]\n",
      "[[2.91144886e-13]\n",
      " [2.66184102e-13]]\n",
      "[[2.91144886e-13]\n",
      " [2.66184102e-13]]\n",
      "[[2.91144886e-13]\n",
      " [2.66184102e-13]]\n",
      "[[2.91144886e-13]\n",
      " [2.66184102e-13]]\n",
      "[[2.91144886e-13]\n",
      " [2.66184102e-13]]\n",
      "[[2.91144886e-13]\n",
      " [2.66184102e-13]]\n",
      "[[2.91144886e-13]\n",
      " [2.66184102e-13]]\n",
      "[[2.91144886e-13]\n",
      " [2.66184102e-13]]\n",
      "[[2.91144886e-13]\n",
      " [2.66184102e-13]]\n",
      "[[2.91144886e-13]\n",
      " [2.66184102e-13]]\n",
      "[[2.91144886e-13]\n",
      " [2.66184102e-13]]\n",
      "[[2.91144886e-13]\n",
      " [2.66184102e-13]]\n",
      "[[2.91144886e-13]\n",
      " [2.66184102e-13]]\n",
      "[[2.91144886e-13]\n",
      " [2.66184102e-13]]\n",
      "[[2.91144886e-13]\n",
      " [2.66184102e-13]]\n",
      "[[2.91144886e-13]\n",
      " [2.66184102e-13]]\n",
      "[[2.91144886e-13]\n",
      " [2.66184102e-13]]\n",
      "[[2.91144886e-13]\n",
      " [2.66184102e-13]]\n",
      "[[2.91144886e-13]\n",
      " [2.66184102e-13]]\n",
      "[[2.91144886e-13]\n",
      " [2.66184102e-13]]\n",
      "[[2.91144886e-13]\n",
      " [2.66184102e-13]]\n",
      "[[2.91144886e-13]\n",
      " [2.66184102e-13]]\n",
      "[[2.91144886e-13]\n",
      " [2.66184102e-13]]\n",
      "[[2.91144886e-13]\n",
      " [2.66184102e-13]]\n",
      "[[2.91144886e-13]\n",
      " [2.66184102e-13]]\n",
      "[[2.91144886e-13]\n",
      " [2.66184102e-13]]\n",
      "[[2.91144886e-13]\n",
      " [2.66184102e-13]]\n",
      "[[2.91144886e-13]\n",
      " [2.66184102e-13]]\n",
      "[[2.91144886e-13]\n",
      " [2.66184102e-13]]\n",
      "[[2.91144886e-13]\n",
      " [2.66184102e-13]]\n",
      "[[2.91144886e-13]\n",
      " [2.66184102e-13]]\n",
      "[[2.91144886e-13]\n",
      " [2.66184102e-13]]\n",
      "[[2.91144886e-13]\n",
      " [2.66184102e-13]]\n",
      "[[2.91144886e-13]\n",
      " [2.66184102e-13]]\n",
      "[[2.91144886e-13]\n",
      " [2.66184102e-13]]\n",
      "[[2.91144886e-13]\n",
      " [2.66184102e-13]]\n",
      "[[2.91144886e-13]\n",
      " [2.66184102e-13]]\n",
      "[[2.91144886e-13]\n",
      " [2.66184102e-13]]\n",
      "[[2.91144886e-13]\n",
      " [2.66184102e-13]]\n",
      "[[2.91144886e-13]\n",
      " [2.66184102e-13]]\n",
      "[[2.91144886e-13]\n",
      " [2.66184102e-13]]\n",
      "[[2.91144886e-13]\n",
      " [2.66184102e-13]]\n",
      "[[2.91144886e-13]\n",
      " [2.66184102e-13]]\n",
      "[[2.91144886e-13]\n",
      " [2.66184102e-13]]\n",
      "[[2.91144886e-13]\n",
      " [2.66184102e-13]]\n",
      "[[2.91144886e-13]\n",
      " [2.66184102e-13]]\n",
      "[[2.91144886e-13]\n",
      " [2.66184102e-13]]\n",
      "[[2.91144886e-13]\n",
      " [2.66184102e-13]]\n",
      "[[2.91144886e-13]\n",
      " [2.66184102e-13]]\n",
      "[[2.91144886e-13]\n",
      " [2.66184102e-13]]\n",
      "[[2.91144886e-13]\n",
      " [2.66184102e-13]]\n",
      "[[2.91144886e-13]\n",
      " [2.66184102e-13]]\n",
      "[[2.91144886e-13]\n",
      " [2.66184102e-13]]\n",
      "[[2.91144886e-13]\n",
      " [2.66184102e-13]]\n",
      "[[2.91144886e-13]\n",
      " [2.66184102e-13]]\n",
      "[[2.91144886e-13]\n",
      " [2.66184102e-13]]\n",
      "[[2.91144886e-13]\n",
      " [2.66184102e-13]]\n",
      "[[2.91144886e-13]\n",
      " [2.66184102e-13]]\n",
      "[[2.91144886e-13]\n",
      " [2.66184102e-13]]\n",
      "[[2.91144886e-13]\n",
      " [2.66184102e-13]]\n",
      "[[2.91144886e-13]\n",
      " [2.66184102e-13]]\n",
      "[[2.91144886e-13]\n",
      " [2.66184102e-13]]\n",
      "[[2.91144886e-13]\n",
      " [2.66184102e-13]]\n",
      "[[2.91144886e-13]\n",
      " [2.66184102e-13]]\n",
      "[[2.91144886e-13]\n",
      " [2.66184102e-13]]\n",
      "[[2.91144886e-13]\n",
      " [2.66184102e-13]]\n",
      "[[2.91144886e-13]\n",
      " [2.66184102e-13]]\n",
      "[[2.91144886e-13]\n",
      " [2.66184102e-13]]\n",
      "[[2.91144886e-13]\n",
      " [2.66184102e-13]]\n",
      "[[2.91144886e-13]\n",
      " [2.66184102e-13]]\n",
      "[[2.91144886e-13]\n",
      " [2.66184102e-13]]\n",
      "[[2.91144886e-13]\n",
      " [2.66184102e-13]]\n",
      "[[2.91144886e-13]\n",
      " [2.66184102e-13]]\n",
      "[[2.91144886e-13]\n",
      " [2.66184102e-13]]\n",
      "[[2.91144886e-13]\n",
      " [2.66184102e-13]]\n",
      "[[2.91144886e-13]\n",
      " [2.66184102e-13]]\n",
      "[[2.91144886e-13]\n",
      " [2.66184102e-13]]\n",
      "[[2.91144886e-13]\n",
      " [2.66184102e-13]]\n",
      "[[2.91144886e-13]\n",
      " [2.66184102e-13]]\n",
      "[[2.91144886e-13]\n",
      " [2.66184102e-13]]\n",
      "[[2.91144886e-13]\n",
      " [2.66184102e-13]]\n",
      "[[2.91144886e-13]\n",
      " [2.66184102e-13]]\n",
      "[[2.91144886e-13]\n",
      " [2.66184102e-13]]\n",
      "[[2.91144886e-13]\n",
      " [2.66184102e-13]]\n",
      "[[2.91144886e-13]\n",
      " [2.66184102e-13]]\n",
      "[[2.91144886e-13]\n",
      " [2.66184102e-13]]\n",
      "[[2.91144886e-13]\n",
      " [2.66184102e-13]]\n",
      "[[2.91144886e-13]\n",
      " [2.66184102e-13]]\n",
      "[[2.91144886e-13]\n",
      " [2.66184102e-13]]\n",
      "[[2.91144886e-13]\n",
      " [2.66184102e-13]]\n",
      "[[2.91144886e-13]\n",
      " [2.66184102e-13]]\n",
      "[[2.91144886e-13]\n",
      " [2.66184102e-13]]\n",
      "[[2.91144886e-13]\n",
      " [2.66184102e-13]]\n",
      "[[2.91144886e-13]\n",
      " [2.66184102e-13]]\n",
      "[[2.91144886e-13]\n",
      " [2.66184102e-13]]\n",
      "[[2.91144886e-13]\n",
      " [2.66184102e-13]]\n",
      "[[2.91144886e-13]\n",
      " [2.66184102e-13]]\n",
      "[[2.91144886e-13]\n",
      " [2.66184102e-13]]\n",
      "[[2.91144886e-13]\n",
      " [2.66184102e-13]]\n",
      "[[2.91144886e-13]\n",
      " [2.66184102e-13]]\n",
      "[[2.91144886e-13]\n",
      " [2.66184102e-13]]\n",
      "[[2.91144886e-13]\n",
      " [2.66184102e-13]]\n",
      "[[2.91144886e-13]\n",
      " [2.66184102e-13]]\n",
      "[[2.91144886e-13]\n",
      " [2.66184102e-13]]\n",
      "[[2.91144886e-13]\n",
      " [2.66184102e-13]]\n",
      "[[2.91144886e-13]\n",
      " [2.66184102e-13]]\n",
      "[[2.91144886e-13]\n",
      " [2.66184102e-13]]\n",
      "[[2.91144886e-13]\n",
      " [2.66184102e-13]]\n",
      "[[2.91144886e-13]\n",
      " [2.66184102e-13]]\n",
      "[[2.91144886e-13]\n",
      " [2.66184102e-13]]\n",
      "[[2.91144886e-13]\n",
      " [2.66184102e-13]]\n",
      "[[2.91144886e-13]\n",
      " [2.66184102e-13]]\n",
      "[[2.91144886e-13]\n",
      " [2.66184102e-13]]\n",
      "[[2.91144886e-13]\n",
      " [2.66184102e-13]]\n",
      "[[2.91144886e-13]\n",
      " [2.66184102e-13]]\n",
      "[[2.91144886e-13]\n",
      " [2.66184102e-13]]\n",
      "[[2.91144886e-13]\n",
      " [2.66184102e-13]]\n",
      "[[2.91144886e-13]\n",
      " [2.66184102e-13]]\n",
      "[[2.91144886e-13]\n",
      " [2.66184102e-13]]\n",
      "[[2.91144886e-13]\n",
      " [2.66184102e-13]]\n",
      "[[2.91144886e-13]\n",
      " [2.66184102e-13]]\n",
      "[[2.91144886e-13]\n",
      " [2.66184102e-13]]\n",
      "[[2.91144886e-13]\n",
      " [2.66184102e-13]]\n",
      "[[2.91144886e-13]\n",
      " [2.66184102e-13]]\n",
      "[[2.91144886e-13]\n",
      " [2.66184102e-13]]\n",
      "[[2.91144886e-13]\n",
      " [2.66184102e-13]]\n",
      "[[2.91144886e-13]\n",
      " [2.66184102e-13]]\n",
      "[[2.91144886e-13]\n",
      " [2.66184102e-13]]\n",
      "[[2.91144886e-13]\n",
      " [2.66184102e-13]]\n",
      "[[2.91144886e-13]\n",
      " [2.66184102e-13]]\n",
      "[[2.91144886e-13]\n",
      " [2.66184102e-13]]\n",
      "[[2.91144886e-13]\n",
      " [2.66184102e-13]]\n",
      "[[2.91144886e-13]\n",
      " [2.66184102e-13]]\n",
      "[[2.91144886e-13]\n",
      " [2.66184102e-13]]\n",
      "[[2.91144886e-13]\n",
      " [2.66184102e-13]]\n",
      "[[2.91144886e-13]\n",
      " [2.66184102e-13]]\n",
      "[[2.91144886e-13]\n",
      " [2.66184102e-13]]\n",
      "[[2.91144886e-13]\n",
      " [2.66184102e-13]]\n",
      "[[2.91144886e-13]\n",
      " [2.66184102e-13]]\n",
      "[[2.91144886e-13]\n",
      " [2.66184102e-13]]\n",
      "[[2.91144886e-13]\n",
      " [2.66184102e-13]]\n",
      "[[2.91144886e-13]\n",
      " [2.66184102e-13]]\n",
      "[[2.91144886e-13]\n",
      " [2.66184102e-13]]\n",
      "[[2.91144886e-13]\n",
      " [2.66184102e-13]]\n",
      "[[2.91144886e-13]\n",
      " [2.66184102e-13]]\n",
      "[[2.91144886e-13]\n",
      " [2.66184102e-13]]\n",
      "[[2.91144886e-13]\n",
      " [2.66184102e-13]]\n",
      "[[2.91144886e-13]\n",
      " [2.66184102e-13]]\n",
      "[[2.91144886e-13]\n",
      " [2.66184102e-13]]\n",
      "[[2.91144886e-13]\n",
      " [2.66184102e-13]]\n",
      "[[2.91144886e-13]\n",
      " [2.66184102e-13]]\n",
      "[[2.91144886e-13]\n",
      " [2.66184102e-13]]\n",
      "[[2.91144886e-13]\n",
      " [2.66184102e-13]]\n",
      "[[2.91144886e-13]\n",
      " [2.66184102e-13]]\n",
      "[[2.91144886e-13]\n",
      " [2.66184102e-13]]\n",
      "[[2.91144886e-13]\n",
      " [2.66184102e-13]]\n",
      "[[2.91144886e-13]\n",
      " [2.66184102e-13]]\n",
      "[[2.91144886e-13]\n",
      " [2.66184102e-13]]\n",
      "[[2.91144886e-13]\n",
      " [2.66184102e-13]]\n",
      "[[2.91144886e-13]\n",
      " [2.66184102e-13]]\n",
      "[[2.91144886e-13]\n",
      " [2.66184102e-13]]\n",
      "[[2.91144886e-13]\n",
      " [2.66184102e-13]]\n",
      "[[2.91144886e-13]\n",
      " [2.66184102e-13]]\n",
      "[[2.91144886e-13]\n",
      " [2.66184102e-13]]\n",
      "[[2.91144886e-13]\n",
      " [2.66184102e-13]]\n",
      "[[2.91144886e-13]\n",
      " [2.66184102e-13]]\n",
      "[[2.91144886e-13]\n",
      " [2.66184102e-13]]\n",
      "[[2.91144886e-13]\n",
      " [2.66184102e-13]]\n",
      "[[2.91144886e-13]\n",
      " [2.66184102e-13]]\n",
      "[[2.91144886e-13]\n",
      " [2.66184102e-13]]\n",
      "[[2.91144886e-13]\n",
      " [2.66184102e-13]]\n",
      "[[2.91144886e-13]\n",
      " [2.66184102e-13]]\n",
      "[[2.91144886e-13]\n",
      " [2.66184102e-13]]\n",
      "[[2.91144886e-13]\n",
      " [2.66184102e-13]]\n",
      "[[2.91144886e-13]\n",
      " [2.66184102e-13]]\n",
      "[[2.91144886e-13]\n",
      " [2.66184102e-13]]\n",
      "[[2.91144886e-13]\n",
      " [2.66184102e-13]]\n",
      "[[2.91144886e-13]\n",
      " [2.66184102e-13]]\n",
      "[[2.91144886e-13]\n",
      " [2.66184102e-13]]\n",
      "[[2.91144886e-13]\n",
      " [2.66184102e-13]]\n",
      "[[2.91144886e-13]\n",
      " [2.66184102e-13]]\n",
      "[[2.91144886e-13]\n",
      " [2.66184102e-13]]\n",
      "[[2.91144886e-13]\n",
      " [2.66184102e-13]]\n",
      "[[2.91144886e-13]\n",
      " [2.66184102e-13]]\n",
      "[[2.91144886e-13]\n",
      " [2.66184102e-13]]\n",
      "[[2.91144886e-13]\n",
      " [2.66184102e-13]]\n",
      "[[2.91144886e-13]\n",
      " [2.66184102e-13]]\n",
      "[[2.91144886e-13]\n",
      " [2.66184102e-13]]\n",
      "[[2.91144886e-13]\n",
      " [2.66184102e-13]]\n",
      "[[2.91144886e-13]\n",
      " [2.66184102e-13]]\n",
      "[[2.91144886e-13]\n",
      " [2.66184102e-13]]\n",
      "[[2.91144886e-13]\n",
      " [2.66184102e-13]]\n",
      "[[2.91144886e-13]\n",
      " [2.66184102e-13]]\n",
      "[[2.91144886e-13]\n",
      " [2.66184102e-13]]\n",
      "[[2.91144886e-13]\n",
      " [2.66184102e-13]]\n",
      "[[2.91144886e-13]\n",
      " [2.66184102e-13]]\n",
      "[[2.91144886e-13]\n",
      " [2.66184102e-13]]\n",
      "[[2.91144886e-13]\n",
      " [2.66184102e-13]]\n",
      "[[2.91144886e-13]\n",
      " [2.66184102e-13]]\n",
      "[[2.91144886e-13]\n",
      " [2.66184102e-13]]\n",
      "[[2.91144886e-13]\n",
      " [2.66184102e-13]]\n",
      "[[2.91144886e-13]\n",
      " [2.66184102e-13]]\n",
      "[[2.91144886e-13]\n",
      " [2.66184102e-13]]\n",
      "[[2.91144886e-13]\n",
      " [2.66184102e-13]]\n",
      "[[2.91144886e-13]\n",
      " [2.66184102e-13]]\n",
      "[[2.91144886e-13]\n",
      " [2.66184102e-13]]\n",
      "[[2.91144886e-13]\n",
      " [2.66184102e-13]]\n",
      "[[2.91144886e-13]\n",
      " [2.66184102e-13]]\n",
      "[[2.91144886e-13]\n",
      " [2.66184102e-13]]\n",
      "[[2.91144886e-13]\n",
      " [2.66184102e-13]]\n",
      "[[2.91144886e-13]\n",
      " [2.66184102e-13]]\n",
      "[[2.91144886e-13]\n",
      " [2.66184102e-13]]\n",
      "[[2.91144886e-13]\n",
      " [2.66184102e-13]]\n",
      "[[2.91144886e-13]\n",
      " [2.66184102e-13]]\n",
      "[[2.91144886e-13]\n",
      " [2.66184102e-13]]\n",
      "[[2.91144886e-13]\n",
      " [2.66184102e-13]]\n",
      "[[2.91144886e-13]\n",
      " [2.66184102e-13]]\n",
      "[[2.91144886e-13]\n",
      " [2.66184102e-13]]\n",
      "[[2.91144886e-13]\n",
      " [2.66184102e-13]]\n",
      "[[2.91144886e-13]\n",
      " [2.66184102e-13]]\n",
      "[[2.91144886e-13]\n",
      " [2.66184102e-13]]\n",
      "[[2.91144886e-13]\n",
      " [2.66184102e-13]]\n",
      "[[2.91144886e-13]\n",
      " [2.66184102e-13]]\n",
      "[[2.91144886e-13]\n",
      " [2.66184102e-13]]\n",
      "[[2.91144886e-13]\n",
      " [2.66184102e-13]]\n",
      "[[2.91144886e-13]\n",
      " [2.66184102e-13]]\n",
      "[[2.91144886e-13]\n",
      " [2.66184102e-13]]\n",
      "[[2.91144886e-13]\n",
      " [2.66184102e-13]]\n",
      "[[2.91144886e-13]\n",
      " [2.66184102e-13]]\n",
      "[[2.91144886e-13]\n",
      " [2.66184102e-13]]\n",
      "[[2.91144886e-13]\n",
      " [2.66184102e-13]]\n",
      "[[2.91144886e-13]\n",
      " [2.66184102e-13]]\n",
      "[[2.91144886e-13]\n",
      " [2.66184102e-13]]\n",
      "[[2.91144886e-13]\n",
      " [2.66184102e-13]]\n",
      "[[2.91144886e-13]\n",
      " [2.66184102e-13]]\n",
      "[[2.91144886e-13]\n",
      " [2.66184102e-13]]\n",
      "[[2.91144886e-13]\n",
      " [2.66184102e-13]]\n",
      "[[2.91144886e-13]\n",
      " [2.66184102e-13]]\n",
      "[[2.91144886e-13]\n",
      " [2.66184102e-13]]\n",
      "[[2.91144886e-13]\n",
      " [2.66184102e-13]]\n",
      "[[2.91144886e-13]\n",
      " [2.66184102e-13]]\n",
      "[[2.91144886e-13]\n",
      " [2.66184102e-13]]\n",
      "[[2.91144886e-13]\n",
      " [2.66184102e-13]]\n",
      "[[2.91144886e-13]\n",
      " [2.66184102e-13]]\n",
      "[[2.91144886e-13]\n",
      " [2.66184102e-13]]\n",
      "[[2.91144886e-13]\n",
      " [2.66184102e-13]]\n",
      "[[2.91144886e-13]\n",
      " [2.66184102e-13]]\n",
      "[[2.91144886e-13]\n",
      " [2.66184102e-13]]\n",
      "[[2.91144886e-13]\n",
      " [2.66184102e-13]]\n",
      "[[2.91144886e-13]\n",
      " [2.66184102e-13]]\n",
      "[[2.91144886e-13]\n",
      " [2.66184102e-13]]\n",
      "[[2.91144886e-13]\n",
      " [2.66184102e-13]]\n",
      "[[2.91144886e-13]\n",
      " [2.66184102e-13]]\n",
      "[[2.91144886e-13]\n",
      " [2.66184102e-13]]\n",
      "[[2.91144886e-13]\n",
      " [2.66184102e-13]]\n",
      "[[2.91144886e-13]\n",
      " [2.66184102e-13]]\n",
      "[[2.91144886e-13]\n",
      " [2.66184102e-13]]\n",
      "[[2.91144886e-13]\n",
      " [2.66184102e-13]]\n",
      "[[2.91144886e-13]\n",
      " [2.66184102e-13]]\n",
      "[[2.91144886e-13]\n",
      " [2.66184102e-13]]\n",
      "[[2.91144886e-13]\n",
      " [2.66184102e-13]]\n",
      "[[2.91144886e-13]\n",
      " [2.66184102e-13]]\n",
      "[[2.91144886e-13]\n",
      " [2.66184102e-13]]\n",
      "[[2.91144886e-13]\n",
      " [2.66184102e-13]]\n",
      "[[2.91144886e-13]\n",
      " [2.66184102e-13]]\n",
      "[[2.91144886e-13]\n",
      " [2.66184102e-13]]\n",
      "[[2.91144886e-13]\n",
      " [2.66184102e-13]]\n",
      "[[2.91144886e-13]\n",
      " [2.66184102e-13]]\n",
      "[[2.91144886e-13]\n",
      " [2.66184102e-13]]\n",
      "[[2.91144886e-13]\n",
      " [2.66184102e-13]]\n",
      "[[2.91144886e-13]\n",
      " [2.66184102e-13]]\n",
      "[[2.91144886e-13]\n",
      " [2.66184102e-13]]\n",
      "[[2.91144886e-13]\n",
      " [2.66184102e-13]]\n",
      "[[2.91144886e-13]\n",
      " [2.66184102e-13]]\n",
      "[[2.91144886e-13]\n",
      " [2.66184102e-13]]\n",
      "[[2.91144886e-13]\n",
      " [2.66184102e-13]]\n",
      "[[2.91144886e-13]\n",
      " [2.66184102e-13]]\n",
      "[[2.91144886e-13]\n",
      " [2.66184102e-13]]\n",
      "[[2.91144886e-13]\n",
      " [2.66184102e-13]]\n",
      "[[2.91144886e-13]\n",
      " [2.66184102e-13]]\n",
      "[[2.91144886e-13]\n",
      " [2.66184102e-13]]\n",
      "[[2.91144886e-13]\n",
      " [2.66184102e-13]]\n",
      "[[2.91144886e-13]\n",
      " [2.66184102e-13]]\n",
      "[[2.91144886e-13]\n",
      " [2.66184102e-13]]\n",
      "[[2.91144886e-13]\n",
      " [2.66184102e-13]]\n",
      "[[2.91144886e-13]\n",
      " [2.66184102e-13]]\n",
      "[[2.91144886e-13]\n",
      " [2.66184102e-13]]\n",
      "[[2.91144886e-13]\n",
      " [2.66184102e-13]]\n",
      "[[2.91144886e-13]\n",
      " [2.66184102e-13]]\n",
      "[[2.91144886e-13]\n",
      " [2.66184102e-13]]\n",
      "[[2.91144886e-13]\n",
      " [2.66184102e-13]]\n",
      "[[2.91144886e-13]\n",
      " [2.66184102e-13]]\n",
      "[[2.91144886e-13]\n",
      " [2.66184102e-13]]\n",
      "[[2.91144886e-13]\n",
      " [2.66184102e-13]]\n",
      "[[2.91144886e-13]\n",
      " [2.66184102e-13]]\n",
      "[[2.91144886e-13]\n",
      " [2.66184102e-13]]\n",
      "[[2.91144886e-13]\n",
      " [2.66184102e-13]]\n",
      "[[2.91144886e-13]\n",
      " [2.66184102e-13]]\n",
      "[[2.91144886e-13]\n",
      " [2.66184102e-13]]\n",
      "[[2.91144886e-13]\n",
      " [2.66184102e-13]]\n",
      "[[2.91144886e-13]\n",
      " [2.66184102e-13]]\n",
      "[[2.91144886e-13]\n",
      " [2.66184102e-13]]\n",
      "[[2.91144886e-13]\n",
      " [2.66184102e-13]]\n",
      "[[2.91144886e-13]\n",
      " [2.66184102e-13]]\n",
      "[[2.91144886e-13]\n",
      " [2.66184102e-13]]\n",
      "[[2.91144886e-13]\n",
      " [2.66184102e-13]]\n",
      "[[2.91144886e-13]\n",
      " [2.66184102e-13]]\n",
      "[[2.91144886e-13]\n",
      " [2.66184102e-13]]\n",
      "[[2.91144886e-13]\n",
      " [2.66184102e-13]]\n",
      "[[2.91144886e-13]\n",
      " [2.66184102e-13]]\n",
      "[[2.91144886e-13]\n",
      " [2.66184102e-13]]\n",
      "[[2.91144886e-13]\n",
      " [2.66184102e-13]]\n",
      "[[2.91144886e-13]\n",
      " [2.66184102e-13]]\n",
      "[[2.91144886e-13]\n",
      " [2.66184102e-13]]\n",
      "[[2.91144886e-13]\n",
      " [2.66184102e-13]]\n",
      "[[2.91144886e-13]\n",
      " [2.66184102e-13]]\n",
      "[[2.91144886e-13]\n",
      " [2.66184102e-13]]\n",
      "[[2.91144886e-13]\n",
      " [2.66184102e-13]]\n",
      "[[2.91144886e-13]\n",
      " [2.66184102e-13]]\n",
      "[[2.91144886e-13]\n",
      " [2.66184102e-13]]\n",
      "[[2.91144886e-13]\n",
      " [2.66184102e-13]]\n",
      "[[2.91144886e-13]\n",
      " [2.66184102e-13]]\n",
      "[[2.91144886e-13]\n",
      " [2.66184102e-13]]\n",
      "[[2.91144886e-13]\n",
      " [2.66184102e-13]]\n",
      "[[2.91144886e-13]\n",
      " [2.66184102e-13]]\n",
      "[[2.91144886e-13]\n",
      " [2.66184102e-13]]\n",
      "[[2.91144886e-13]\n",
      " [2.66184102e-13]]\n",
      "[[2.91144886e-13]\n",
      " [2.66184102e-13]]\n",
      "[[2.91144886e-13]\n",
      " [2.66184102e-13]]\n",
      "[[2.91144886e-13]\n",
      " [2.66184102e-13]]\n",
      "[[2.91144886e-13]\n",
      " [2.66184102e-13]]\n",
      "[[2.91144886e-13]\n",
      " [2.66184102e-13]]\n",
      "[[2.91144886e-13]\n",
      " [2.66184102e-13]]\n",
      "[[2.91144886e-13]\n",
      " [2.66184102e-13]]\n",
      "[[2.91144886e-13]\n",
      " [2.66184102e-13]]\n",
      "[[2.91144886e-13]\n",
      " [2.66184102e-13]]\n",
      "[[2.91144886e-13]\n",
      " [2.66184102e-13]]\n",
      "[[2.91144886e-13]\n",
      " [2.66184102e-13]]\n",
      "[[2.91144886e-13]\n",
      " [2.66184102e-13]]\n",
      "[[2.91144886e-13]\n",
      " [2.66184102e-13]]\n",
      "[[2.91144886e-13]\n",
      " [2.66184102e-13]]\n",
      "[[2.91144886e-13]\n",
      " [2.66184102e-13]]\n",
      "[[2.91144886e-13]\n",
      " [2.66184102e-13]]\n",
      "[[2.91144886e-13]\n",
      " [2.66184102e-13]]\n",
      "[[2.91144886e-13]\n",
      " [2.66184102e-13]]\n",
      "[[2.91144886e-13]\n",
      " [2.66184102e-13]]\n",
      "[[2.91144886e-13]\n",
      " [2.66184102e-13]]\n",
      "[[2.91144886e-13]\n",
      " [2.66184102e-13]]\n",
      "[[2.91144886e-13]\n",
      " [2.66184102e-13]]\n",
      "[[2.91144886e-13]\n",
      " [2.66184102e-13]]\n",
      "[[2.91144886e-13]\n",
      " [2.66184102e-13]]\n",
      "[[2.91144886e-13]\n",
      " [2.66184102e-13]]\n",
      "[[2.91144886e-13]\n",
      " [2.66184102e-13]]\n",
      "[[2.91144886e-13]\n",
      " [2.66184102e-13]]\n",
      "[[2.91144886e-13]\n",
      " [2.66184102e-13]]\n",
      "[[2.91144886e-13]\n",
      " [2.66184102e-13]]\n",
      "[[2.91144886e-13]\n",
      " [2.66184102e-13]]\n",
      "[[2.91144886e-13]\n",
      " [2.66184102e-13]]\n",
      "[[2.91144886e-13]\n",
      " [2.66184102e-13]]\n",
      "[[2.91144886e-13]\n",
      " [2.66184102e-13]]\n",
      "[[2.91144886e-13]\n",
      " [2.66184102e-13]]\n",
      "[[2.91144886e-13]\n",
      " [2.66184102e-13]]\n",
      "[[2.91144886e-13]\n",
      " [2.66184102e-13]]\n",
      "[[2.91144886e-13]\n",
      " [2.66184102e-13]]\n",
      "[[2.91144886e-13]\n",
      " [2.66184102e-13]]\n",
      "[[2.91144886e-13]\n",
      " [2.66184102e-13]]\n",
      "[[2.91144886e-13]\n",
      " [2.66184102e-13]]\n",
      "[[2.91144886e-13]\n",
      " [2.66184102e-13]]\n",
      "[[2.91144886e-13]\n",
      " [2.66184102e-13]]\n",
      "[[2.91144886e-13]\n",
      " [2.66184102e-13]]\n",
      "[[2.91144886e-13]\n",
      " [2.66184102e-13]]\n",
      "[[2.91144886e-13]\n",
      " [2.66184102e-13]]\n",
      "[[2.91144886e-13]\n",
      " [2.66184102e-13]]\n",
      "[[2.91144886e-13]\n",
      " [2.66184102e-13]]\n",
      "[[2.91144886e-13]\n",
      " [2.66184102e-13]]\n",
      "[[2.91144886e-13]\n",
      " [2.66184102e-13]]\n",
      "[[2.91144886e-13]\n",
      " [2.66184102e-13]]\n",
      "[[2.91144886e-13]\n",
      " [2.66184102e-13]]\n",
      "[[2.91144886e-13]\n",
      " [2.66184102e-13]]\n",
      "[[2.91144886e-13]\n",
      " [2.66184102e-13]]\n",
      "[[2.91144886e-13]\n",
      " [2.66184102e-13]]\n",
      "[[2.91144886e-13]\n",
      " [2.66184102e-13]]\n",
      "[[2.91144886e-13]\n",
      " [2.66184102e-13]]\n",
      "[[2.91144886e-13]\n",
      " [2.66184102e-13]]\n",
      "[[2.91144886e-13]\n",
      " [2.66184102e-13]]\n",
      "[[2.91144886e-13]\n",
      " [2.66184102e-13]]\n",
      "[[2.91144886e-13]\n",
      " [2.66184102e-13]]\n",
      "[[2.91144886e-13]\n",
      " [2.66184102e-13]]\n",
      "[[2.91144886e-13]\n",
      " [2.66184102e-13]]\n",
      "[[2.91144886e-13]\n",
      " [2.66184102e-13]]\n",
      "[[2.91144886e-13]\n",
      " [2.66184102e-13]]\n",
      "[[2.91144886e-13]\n",
      " [2.66184102e-13]]\n",
      "[[2.91144886e-13]\n",
      " [2.66184102e-13]]\n",
      "[[2.91144886e-13]\n",
      " [2.66184102e-13]]\n",
      "[[2.91144886e-13]\n",
      " [2.66184102e-13]]\n",
      "[[2.91144886e-13]\n",
      " [2.66184102e-13]]\n",
      "[[2.91144886e-13]\n",
      " [2.66184102e-13]]\n",
      "[[2.91144886e-13]\n",
      " [2.66184102e-13]]\n",
      "[[2.91144886e-13]\n",
      " [2.66184102e-13]]\n",
      "[[2.91144886e-13]\n",
      " [2.66184102e-13]]\n",
      "[[2.91144886e-13]\n",
      " [2.66184102e-13]]\n",
      "[[2.91144886e-13]\n",
      " [2.66184102e-13]]\n",
      "[[2.91144886e-13]\n",
      " [2.66184102e-13]]\n",
      "[[2.91144886e-13]\n",
      " [2.66184102e-13]]\n",
      "[[2.91144886e-13]\n",
      " [2.66184102e-13]]\n",
      "[[2.91144886e-13]\n",
      " [2.66184102e-13]]\n",
      "[[2.91144886e-13]\n",
      " [2.66184102e-13]]\n",
      "[[2.91144886e-13]\n",
      " [2.66184102e-13]]\n",
      "[[2.91144886e-13]\n",
      " [2.66184102e-13]]\n",
      "[[2.91144886e-13]\n",
      " [2.66184102e-13]]\n",
      "[[2.91144886e-13]\n",
      " [2.66184102e-13]]\n",
      "[[2.91144886e-13]\n",
      " [2.66184102e-13]]\n",
      "[[2.91144886e-13]\n",
      " [2.66184102e-13]]\n",
      "[[2.91144886e-13]\n",
      " [2.66184102e-13]]\n",
      "[[2.91144886e-13]\n",
      " [2.66184102e-13]]\n",
      "[[2.91144886e-13]\n",
      " [2.66184102e-13]]\n",
      "[[2.91144886e-13]\n",
      " [2.66184102e-13]]\n",
      "[[2.91144886e-13]\n",
      " [2.66184102e-13]]\n",
      "[[2.91144886e-13]\n",
      " [2.66184102e-13]]\n",
      "[[2.91144886e-13]\n",
      " [2.66184102e-13]]\n",
      "[[2.91144886e-13]\n",
      " [2.66184102e-13]]\n",
      "[[2.91144886e-13]\n",
      " [2.66184102e-13]]\n",
      "[[2.91144886e-13]\n",
      " [2.66184102e-13]]\n",
      "[[2.91144886e-13]\n",
      " [2.66184102e-13]]\n",
      "[[2.91144886e-13]\n",
      " [2.66184102e-13]]\n",
      "[[2.91144886e-13]\n",
      " [2.66184102e-13]]\n",
      "[[2.91144886e-13]\n",
      " [2.66184102e-13]]\n",
      "[[2.91144886e-13]\n",
      " [2.66184102e-13]]\n",
      "[[2.91144886e-13]\n",
      " [2.66184102e-13]]\n",
      "[[2.91144886e-13]\n",
      " [2.66184102e-13]]\n",
      "[[2.91144886e-13]\n",
      " [2.66184102e-13]]\n",
      "[[2.91144886e-13]\n",
      " [2.66184102e-13]]\n",
      "[[2.91144886e-13]\n",
      " [2.66184102e-13]]\n",
      "[[2.91144886e-13]\n",
      " [2.66184102e-13]]\n",
      "[[2.91144886e-13]\n",
      " [2.66184102e-13]]\n",
      "[[2.91144886e-13]\n",
      " [2.66184102e-13]]\n",
      "[[2.91144886e-13]\n",
      " [2.66184102e-13]]\n",
      "[[2.91144886e-13]\n",
      " [2.66184102e-13]]\n",
      "[[2.91144886e-13]\n",
      " [2.66184102e-13]]\n",
      "[[2.91144886e-13]\n",
      " [2.66184102e-13]]\n",
      "[[2.91144886e-13]\n",
      " [2.66184102e-13]]\n",
      "[[2.91144886e-13]\n",
      " [2.66184102e-13]]\n",
      "[[2.91144886e-13]\n",
      " [2.66184102e-13]]\n",
      "[[2.91144886e-13]\n",
      " [2.66184102e-13]]\n",
      "[[2.91144886e-13]\n",
      " [2.66184102e-13]]\n",
      "[[2.91144886e-13]\n",
      " [2.66184102e-13]]\n",
      "[[2.91144886e-13]\n",
      " [2.66184102e-13]]\n",
      "[[2.91144886e-13]\n",
      " [2.66184102e-13]]\n",
      "[[2.91144886e-13]\n",
      " [2.66184102e-13]]\n",
      "[[2.91144886e-13]\n",
      " [2.66184102e-13]]\n",
      "[[2.91144886e-13]\n",
      " [2.66184102e-13]]\n",
      "[[2.91144886e-13]\n",
      " [2.66184102e-13]]\n",
      "[[2.91144886e-13]\n",
      " [2.66184102e-13]]\n",
      "[[2.91144886e-13]\n",
      " [2.66184102e-13]]\n",
      "[[2.91144886e-13]\n",
      " [2.66184102e-13]]\n",
      "[[2.91144886e-13]\n",
      " [2.66184102e-13]]\n",
      "[[2.91144886e-13]\n",
      " [2.66184102e-13]]\n",
      "[[2.91144886e-13]\n",
      " [2.66184102e-13]]\n",
      "[[2.91144886e-13]\n",
      " [2.66184102e-13]]\n",
      "[[2.91144886e-13]\n",
      " [2.66184102e-13]]\n",
      "[[2.91144886e-13]\n",
      " [2.66184102e-13]]\n",
      "[[2.91144886e-13]\n",
      " [2.66184102e-13]]\n",
      "[[2.91144886e-13]\n",
      " [2.66184102e-13]]\n",
      "[[2.91144886e-13]\n",
      " [2.66184102e-13]]\n",
      "[[2.91144886e-13]\n",
      " [2.66184102e-13]]\n",
      "[[2.91144886e-13]\n",
      " [2.66184102e-13]]\n",
      "[[2.91144886e-13]\n",
      " [2.66184102e-13]]\n",
      "[[2.91144886e-13]\n",
      " [2.66184102e-13]]\n",
      "[[2.91144886e-13]\n",
      " [2.66184102e-13]]\n",
      "[[2.91144886e-13]\n",
      " [2.66184102e-13]]\n",
      "[[2.91144886e-13]\n",
      " [2.66184102e-13]]\n",
      "[[2.91144886e-13]\n",
      " [2.66184102e-13]]\n",
      "[[2.91144886e-13]\n",
      " [2.66184102e-13]]\n",
      "[[2.91144886e-13]\n",
      " [2.66184102e-13]]\n",
      "[[2.91144886e-13]\n",
      " [2.66184102e-13]]\n",
      "[[2.91144886e-13]\n",
      " [2.66184102e-13]]\n",
      "[[2.91144886e-13]\n",
      " [2.66184102e-13]]\n",
      "[[2.91144886e-13]\n",
      " [2.66184102e-13]]\n",
      "[[2.91144886e-13]\n",
      " [2.66184102e-13]]\n",
      "[[2.91144886e-13]\n",
      " [2.66184102e-13]]\n",
      "[[2.91144886e-13]\n",
      " [2.66184102e-13]]\n",
      "[[2.91144886e-13]\n",
      " [2.66184102e-13]]\n",
      "[[2.91144886e-13]\n",
      " [2.66184102e-13]]\n",
      "[[2.91144886e-13]\n",
      " [2.66184102e-13]]\n",
      "[[2.91144886e-13]\n",
      " [2.66184102e-13]]\n",
      "[[2.91144886e-13]\n",
      " [2.66184102e-13]]\n",
      "[[2.91144886e-13]\n",
      " [2.66184102e-13]]\n",
      "[[2.91144886e-13]\n",
      " [2.66184102e-13]]\n",
      "[[2.91144886e-13]\n",
      " [2.66184102e-13]]\n",
      "[[2.91144886e-13]\n",
      " [2.66184102e-13]]\n",
      "[[2.91144886e-13]\n",
      " [2.66184102e-13]]\n",
      "[[2.91144886e-13]\n",
      " [2.66184102e-13]]\n",
      "[[2.91144886e-13]\n",
      " [2.66184102e-13]]\n",
      "[[2.91144886e-13]\n",
      " [2.66184102e-13]]\n",
      "[[2.91144886e-13]\n",
      " [2.66184102e-13]]\n",
      "[[2.91144886e-13]\n",
      " [2.66184102e-13]]\n",
      "[[2.91144886e-13]\n",
      " [2.66184102e-13]]\n",
      "[[2.91144886e-13]\n",
      " [2.66184102e-13]]\n",
      "[[2.91144886e-13]\n",
      " [2.66184102e-13]]\n",
      "[[2.91144886e-13]\n",
      " [2.66184102e-13]]\n",
      "[[2.91144886e-13]\n",
      " [2.66184102e-13]]\n",
      "[[2.91144886e-13]\n",
      " [2.66184102e-13]]\n",
      "[[2.91144886e-13]\n",
      " [2.66184102e-13]]\n",
      "[[2.91144886e-13]\n",
      " [2.66184102e-13]]\n",
      "[[2.91144886e-13]\n",
      " [2.66184102e-13]]\n",
      "[[2.91144886e-13]\n",
      " [2.66184102e-13]]\n",
      "[[2.91144886e-13]\n",
      " [2.66184102e-13]]\n",
      "[[2.91144886e-13]\n",
      " [2.66184102e-13]]\n",
      "[[2.91144886e-13]\n",
      " [2.66184102e-13]]\n",
      "[[2.91144886e-13]\n",
      " [2.66184102e-13]]\n",
      "[[2.91144886e-13]\n",
      " [2.66184102e-13]]\n",
      "[[2.91144886e-13]\n",
      " [2.66184102e-13]]\n",
      "[[2.91144886e-13]\n",
      " [2.66184102e-13]]\n",
      "[[2.91144886e-13]\n",
      " [2.66184102e-13]]\n",
      "[[2.91144886e-13]\n",
      " [2.66184102e-13]]\n",
      "[[2.91144886e-13]\n",
      " [2.66184102e-13]]\n",
      "[[2.91144886e-13]\n",
      " [2.66184102e-13]]\n",
      "[[2.91144886e-13]\n",
      " [2.66184102e-13]]\n",
      "[[2.91144886e-13]\n",
      " [2.66184102e-13]]\n",
      "[[2.91144886e-13]\n",
      " [2.66184102e-13]]\n",
      "[[2.91144886e-13]\n",
      " [2.66184102e-13]]\n",
      "[[2.91144886e-13]\n",
      " [2.66184102e-13]]\n",
      "[[2.91144886e-13]\n",
      " [2.66184102e-13]]\n",
      "[[2.91144886e-13]\n",
      " [2.66184102e-13]]\n",
      "[[2.91144886e-13]\n",
      " [2.66184102e-13]]\n",
      "[[2.91144886e-13]\n",
      " [2.66184102e-13]]\n",
      "[[2.91144886e-13]\n",
      " [2.66184102e-13]]\n",
      "[[2.91144886e-13]\n",
      " [2.66184102e-13]]\n",
      "[[2.91144886e-13]\n",
      " [2.66184102e-13]]\n",
      "[[2.91144886e-13]\n",
      " [2.66184102e-13]]\n",
      "[[2.91144886e-13]\n",
      " [2.66184102e-13]]\n",
      "[[2.91144886e-13]\n",
      " [2.66184102e-13]]\n",
      "[[2.91144886e-13]\n",
      " [2.66184102e-13]]\n",
      "[[2.91144886e-13]\n",
      " [2.66184102e-13]]\n",
      "[[2.91144886e-13]\n",
      " [2.66184102e-13]]\n",
      "[[2.91144886e-13]\n",
      " [2.66184102e-13]]\n",
      "[[2.91144886e-13]\n",
      " [2.66184102e-13]]\n",
      "[[2.91144886e-13]\n",
      " [2.66184102e-13]]\n",
      "[[2.91144886e-13]\n",
      " [2.66184102e-13]]\n",
      "[[2.91144886e-13]\n",
      " [2.66184102e-13]]\n",
      "[[2.91144886e-13]\n",
      " [2.66184102e-13]]\n",
      "[[2.91144886e-13]\n",
      " [2.66184102e-13]]\n",
      "[[2.91144886e-13]\n",
      " [2.66184102e-13]]\n",
      "[[2.91144886e-13]\n",
      " [2.66184102e-13]]\n",
      "[[2.91144886e-13]\n",
      " [2.66184102e-13]]\n",
      "[[2.91144886e-13]\n",
      " [2.66184102e-13]]\n",
      "[[2.91144886e-13]\n",
      " [2.66184102e-13]]\n",
      "[[2.91144886e-13]\n",
      " [2.66184102e-13]]\n",
      "[[2.91144886e-13]\n",
      " [2.66184102e-13]]\n",
      "[[2.91144886e-13]\n",
      " [2.66184102e-13]]\n",
      "[[2.91144886e-13]\n",
      " [2.66184102e-13]]\n",
      "[[2.91144886e-13]\n",
      " [2.66184102e-13]]\n",
      "[[2.91144886e-13]\n",
      " [2.66184102e-13]]\n",
      "[[2.91144886e-13]\n",
      " [2.66184102e-13]]\n",
      "[[2.91144886e-13]\n",
      " [2.66184102e-13]]\n",
      "[[2.91144886e-13]\n",
      " [2.66184102e-13]]\n",
      "[[2.91144886e-13]\n",
      " [2.66184102e-13]]\n",
      "[[2.91144886e-13]\n",
      " [2.66184102e-13]]\n",
      "[[2.91144886e-13]\n",
      " [2.66184102e-13]]\n",
      "[[2.91144886e-13]\n",
      " [2.66184102e-13]]\n",
      "[[2.91144886e-13]\n",
      " [2.66184102e-13]]\n",
      "[[2.91144886e-13]\n",
      " [2.66184102e-13]]\n",
      "[[2.91144886e-13]\n",
      " [2.66184102e-13]]\n",
      "[[2.91144886e-13]\n",
      " [2.66184102e-13]]\n",
      "[[2.91144886e-13]\n",
      " [2.66184102e-13]]\n",
      "[[2.91144886e-13]\n",
      " [2.66184102e-13]]\n",
      "[[2.91144886e-13]\n",
      " [2.66184102e-13]]\n",
      "[[2.91144886e-13]\n",
      " [2.66184102e-13]]\n",
      "[[2.91144886e-13]\n",
      " [2.66184102e-13]]\n",
      "[[2.91144886e-13]\n",
      " [2.66184102e-13]]\n",
      "[[2.91144886e-13]\n",
      " [2.66184102e-13]]\n",
      "[[2.91144886e-13]\n",
      " [2.66184102e-13]]\n",
      "[[2.91144886e-13]\n",
      " [2.66184102e-13]]\n",
      "[[2.91144886e-13]\n",
      " [2.66184102e-13]]\n",
      "[[2.91144886e-13]\n",
      " [2.66184102e-13]]\n",
      "[[2.91144886e-13]\n",
      " [2.66184102e-13]]\n",
      "[[2.91144886e-13]\n",
      " [2.66184102e-13]]\n",
      "[[2.91144886e-13]\n",
      " [2.66184102e-13]]\n",
      "[[2.91144886e-13]\n",
      " [2.66184102e-13]]\n",
      "[[2.91144886e-13]\n",
      " [2.66184102e-13]]\n",
      "[[2.91144886e-13]\n",
      " [2.66184102e-13]]\n",
      "[[2.91144886e-13]\n",
      " [2.66184102e-13]]\n",
      "[[2.91144886e-13]\n",
      " [2.66184102e-13]]\n",
      "[[2.91144886e-13]\n",
      " [2.66184102e-13]]\n",
      "[[2.91144886e-13]\n",
      " [2.66184102e-13]]\n",
      "[[2.91144886e-13]\n",
      " [2.66184102e-13]]\n",
      "[[2.91144886e-13]\n",
      " [2.66184102e-13]]\n",
      "[[2.91144886e-13]\n",
      " [2.66184102e-13]]\n",
      "[[2.91144886e-13]\n",
      " [2.66184102e-13]]\n",
      "[[2.91144886e-13]\n",
      " [2.66184102e-13]]\n",
      "[[2.91144886e-13]\n",
      " [2.66184102e-13]]\n",
      "[[2.91144886e-13]\n",
      " [2.66184102e-13]]\n",
      "[[2.91144886e-13]\n",
      " [2.66184102e-13]]\n",
      "[[2.91144886e-13]\n",
      " [2.66184102e-13]]\n",
      "[[2.91144886e-13]\n",
      " [2.66184102e-13]]\n",
      "[[2.91144886e-13]\n",
      " [2.66184102e-13]]\n",
      "[[2.91144886e-13]\n",
      " [2.66184102e-13]]\n",
      "[[2.91144886e-13]\n",
      " [2.66184102e-13]]\n",
      "[[2.91144886e-13]\n",
      " [2.66184102e-13]]\n",
      "[[2.91144886e-13]\n",
      " [2.66184102e-13]]\n",
      "[[2.91144886e-13]\n",
      " [2.66184102e-13]]\n",
      "[[2.91144886e-13]\n",
      " [2.66184102e-13]]\n",
      "[[2.91144886e-13]\n",
      " [2.66184102e-13]]\n",
      "[[2.91144886e-13]\n",
      " [2.66184102e-13]]\n",
      "[[2.91144886e-13]\n",
      " [2.66184102e-13]]\n",
      "[[2.91144886e-13]\n",
      " [2.66184102e-13]]\n",
      "[[2.91144886e-13]\n",
      " [2.66184102e-13]]\n",
      "[[2.91144886e-13]\n",
      " [2.66184102e-13]]\n",
      "[[2.91144886e-13]\n",
      " [2.66184102e-13]]\n",
      "[[2.91144886e-13]\n",
      " [2.66184102e-13]]\n",
      "[[2.91144886e-13]\n",
      " [2.66184102e-13]]\n",
      "[[2.91144886e-13]\n",
      " [2.66184102e-13]]\n",
      "[[2.91144886e-13]\n",
      " [2.66184102e-13]]\n",
      "[[2.91144886e-13]\n",
      " [2.66184102e-13]]\n",
      "[[2.91144886e-13]\n",
      " [2.66184102e-13]]\n",
      "[[2.91144886e-13]\n",
      " [2.66184102e-13]]\n",
      "[[2.91144886e-13]\n",
      " [2.66184102e-13]]\n",
      "[[2.91144886e-13]\n",
      " [2.66184102e-13]]\n",
      "[[2.91144886e-13]\n",
      " [2.66184102e-13]]\n",
      "[[2.91144886e-13]\n",
      " [2.66184102e-13]]\n",
      "[[2.91144886e-13]\n",
      " [2.66184102e-13]]\n",
      "[[2.91144886e-13]\n",
      " [2.66184102e-13]]\n",
      "[[2.91144886e-13]\n",
      " [2.66184102e-13]]\n",
      "[[2.91144886e-13]\n",
      " [2.66184102e-13]]\n",
      "[[2.91144886e-13]\n",
      " [2.66184102e-13]]\n",
      "[[2.91144886e-13]\n",
      " [2.66184102e-13]]\n",
      "[[2.91144886e-13]\n",
      " [2.66184102e-13]]\n",
      "[[2.91144886e-13]\n",
      " [2.66184102e-13]]\n",
      "[[2.91144886e-13]\n",
      " [2.66184102e-13]]\n",
      "[[2.91144886e-13]\n",
      " [2.66184102e-13]]\n",
      "[[2.91144886e-13]\n",
      " [2.66184102e-13]]\n"
     ]
    },
    {
     "name": "stdout",
     "output_type": "stream",
     "text": [
      "[[2.91144886e-13]\n",
      " [2.66184102e-13]]\n",
      "[[2.91144886e-13]\n",
      " [2.66184102e-13]]\n",
      "[[2.91144886e-13]\n",
      " [2.66184102e-13]]\n",
      "[[2.91144886e-13]\n",
      " [2.66184102e-13]]\n",
      "[[2.91144886e-13]\n",
      " [2.66184102e-13]]\n",
      "[[2.91144886e-13]\n",
      " [2.66184102e-13]]\n",
      "[[2.91144886e-13]\n",
      " [2.66184102e-13]]\n",
      "[[2.91144886e-13]\n",
      " [2.66184102e-13]]\n",
      "[[2.91144886e-13]\n",
      " [2.66184102e-13]]\n",
      "[[2.91144886e-13]\n",
      " [2.66184102e-13]]\n",
      "[[2.91144886e-13]\n",
      " [2.66184102e-13]]\n",
      "[[2.91144886e-13]\n",
      " [2.66184102e-13]]\n",
      "[[2.91144886e-13]\n",
      " [2.66184102e-13]]\n",
      "[[2.91144886e-13]\n",
      " [2.66184102e-13]]\n",
      "[[2.91144886e-13]\n",
      " [2.66184102e-13]]\n",
      "[[2.91144886e-13]\n",
      " [2.66184102e-13]]\n",
      "[[2.91144886e-13]\n",
      " [2.66184102e-13]]\n",
      "[[2.91144886e-13]\n",
      " [2.66184102e-13]]\n",
      "[[2.91144886e-13]\n",
      " [2.66184102e-13]]\n",
      "[[2.91144886e-13]\n",
      " [2.66184102e-13]]\n",
      "[[2.91144886e-13]\n",
      " [2.66184102e-13]]\n",
      "[[2.91144886e-13]\n",
      " [2.66184102e-13]]\n",
      "[[2.91144886e-13]\n",
      " [2.66184102e-13]]\n",
      "[[2.91144886e-13]\n",
      " [2.66184102e-13]]\n",
      "[[2.91144886e-13]\n",
      " [2.66184102e-13]]\n",
      "[[2.91144886e-13]\n",
      " [2.66184102e-13]]\n",
      "[[2.91144886e-13]\n",
      " [2.66184102e-13]]\n",
      "[[2.91144886e-13]\n",
      " [2.66184102e-13]]\n",
      "[[2.91144886e-13]\n",
      " [2.66184102e-13]]\n",
      "[[2.91144886e-13]\n",
      " [2.66184102e-13]]\n",
      "[[2.91144886e-13]\n",
      " [2.66184102e-13]]\n",
      "[[2.91144886e-13]\n",
      " [2.66184102e-13]]\n",
      "[[2.91144886e-13]\n",
      " [2.66184102e-13]]\n",
      "[[2.91144886e-13]\n",
      " [2.66184102e-13]]\n",
      "[[2.91144886e-13]\n",
      " [2.66184102e-13]]\n",
      "[[2.91144886e-13]\n",
      " [2.66184102e-13]]\n",
      "[[2.91144886e-13]\n",
      " [2.66184102e-13]]\n",
      "[[2.91144886e-13]\n",
      " [2.66184102e-13]]\n",
      "[[2.91144886e-13]\n",
      " [2.66184102e-13]]\n",
      "[[2.91144886e-13]\n",
      " [2.66184102e-13]]\n",
      "[[2.91144886e-13]\n",
      " [2.66184102e-13]]\n",
      "[[2.91144886e-13]\n",
      " [2.66184102e-13]]\n",
      "[[2.91144886e-13]\n",
      " [2.66184102e-13]]\n",
      "[[2.91144886e-13]\n",
      " [2.66184102e-13]]\n",
      "[[2.91144886e-13]\n",
      " [2.66184102e-13]]\n",
      "[[2.91144886e-13]\n",
      " [2.66184102e-13]]\n",
      "[[2.91144886e-13]\n",
      " [2.66184102e-13]]\n",
      "[[2.91144886e-13]\n",
      " [2.66184102e-13]]\n",
      "[[2.91144886e-13]\n",
      " [2.66184102e-13]]\n",
      "[[2.91144886e-13]\n",
      " [2.66184102e-13]]\n",
      "[[2.91144886e-13]\n",
      " [2.66184102e-13]]\n",
      "[[2.91144886e-13]\n",
      " [2.66184102e-13]]\n",
      "[[2.91144886e-13]\n",
      " [2.66184102e-13]]\n"
     ]
    }
   ],
   "source": [
    "for iteration in range(n_iterations):\n",
    "    gradients = 2/m * X_b.T.dot(X_b.dot(theta) - y)  # the formula of gradient\n",
    "    theta = theta - eta * gradients     # next step theta\n",
    "    print(abs(gradients))\n",
    "    if abs(gradients)[0]<0.000000000001 and abs(gradients)[1]<0.0000000000001:  # if the gradients small enough\n",
    "        eta/=10     # decrease the learning rate\n",
    "        for more in range(10):  # run ten more for new learning rate\n",
    "            gradients = 2/m * X_b.T.dot(X_b.dot(theta) - y)      \n",
    "            theta = theta - eta * gradients\n",
    "        print(iteration+10)   # print the iteration times\n",
    "        break"
   ]
  },
  {
   "cell_type": "markdown",
   "metadata": {},
   "source": [
    "### Stochastic Gradient Descent"
   ]
  },
  {
   "cell_type": "markdown",
   "metadata": {},
   "source": [
    "#### Stochastic Gradient Descent using a simple learning schedule"
   ]
  },
  {
   "cell_type": "code",
   "execution_count": 50,
   "metadata": {},
   "outputs": [],
   "source": [
    "n_epochs = 50 \n",
    "t0, t1 = 5, 50 # learning schedule hyperparameters"
   ]
  },
  {
   "cell_type": "code",
   "execution_count": 51,
   "metadata": {},
   "outputs": [],
   "source": [
    "def learning_schedule(t): \n",
    "    return t0 / (t + t1)"
   ]
  },
  {
   "cell_type": "code",
   "execution_count": 52,
   "metadata": {},
   "outputs": [],
   "source": [
    "theta = np.random.randn(2,1) # random initialization"
   ]
  },
  {
   "cell_type": "code",
   "execution_count": 53,
   "metadata": {},
   "outputs": [],
   "source": [
    "loss=[]\n",
    "for epoch in range(n_epochs): \n",
    "    for i in range(len(X_b)):  # the number of instance\n",
    "        random_index = np.random.randint(len(X_b))  # get a random number between 0 and the number of instance(randomly find one instance)\n",
    "        xi = X_b[random_index:random_index+1]   # retuen a list of one train instance\n",
    "        yi = y[random_index:random_index+1]    # retuen a list of one target instance\n",
    "        gradients = 2 * xi.T.dot(xi.dot(theta) - yi)     # calculate the gradient for this instance\n",
    "        loss_per=abs(np.squeeze(sum(abs(X_b.dot(theta) - y))/len(X_b)))  # calculate the mse for all\n",
    "        loss.append(loss_per)\n",
    "        eta = learning_schedule(epoch * (len(X_b)) + i)     # 0*100+i the second iterate: 1*100+i. There for the number from 0 to 5000\n",
    "        # the lr from 5/(50+0) to 5/(50+5000)\n",
    "        theta = theta - eta * gradients "
   ]
  },
  {
   "cell_type": "code",
   "execution_count": 55,
   "metadata": {},
   "outputs": [
    {
     "data": {
      "text/plain": [
       "array([[3.93613983],\n",
       "       [3.06661679]])"
      ]
     },
     "execution_count": 55,
     "metadata": {},
     "output_type": "execute_result"
    }
   ],
   "source": [
    "theta"
   ]
  },
  {
   "cell_type": "markdown",
   "metadata": {},
   "source": [
    "#### Loss plot"
   ]
  },
  {
   "cell_type": "code",
   "execution_count": 56,
   "metadata": {
    "scrolled": true
   },
   "outputs": [
    {
     "data": {
      "text/plain": [
       "[<matplotlib.lines.Line2D at 0x19787218160>]"
      ]
     },
     "execution_count": 56,
     "metadata": {},
     "output_type": "execute_result"
    },
    {
     "data": {
      "image/png": "[encoded data removed]",
      "text/plain": [
       "<Figure size 1080x360 with 1 Axes>"
      ]
     },
     "metadata": {
      "needs_background": "light"
     },
     "output_type": "display_data"
    }
   ],
   "source": [
    "plt.figure(figsize=(15,5))\n",
    "plt.plot(np.arange(5000),loss)"
   ]
  },
  {
   "cell_type": "markdown",
   "metadata": {},
   "source": [
    "### By sklearn"
   ]
  },
  {
   "cell_type": "code",
   "execution_count": 57,
   "metadata": {},
   "outputs": [
    {
     "name": "stderr",
     "output_type": "stream",
     "text": [
      "C:\\Software\\Anaconda3\\lib\\site-packages\\sklearn\\linear_model\\stochastic_gradient.py:152: DeprecationWarning: n_iter parameter is deprecated in 0.19 and will be removed in 0.21. Use max_iter and tol instead.\n",
      "  DeprecationWarning)\n"
     ]
    },
    {
     "data": {
      "text/plain": [
       "SGDRegressor(alpha=0.0001, average=False, early_stopping=False, epsilon=0.1,\n",
       "       eta0=0.1, fit_intercept=True, l1_ratio=0.15,\n",
       "       learning_rate='invscaling', loss='squared_loss', max_iter=None,\n",
       "       n_iter=50, n_iter_no_change=5, penalty=None, power_t=0.25,\n",
       "       random_state=None, shuffle=True, tol=None, validation_fraction=0.1,\n",
       "       verbose=0, warm_start=False)"
      ]
     },
     "execution_count": 57,
     "metadata": {},
     "output_type": "execute_result"
    }
   ],
   "source": [
    "from sklearn.linear_model import SGDRegressor \n",
    "sgd_reg = SGDRegressor(n_iter=50, penalty=None, eta0=0.1) #以0.1 开始\n",
    "sgd_reg.fit(X, y.ravel())"
   ]
  },
  {
   "cell_type": "markdown",
   "metadata": {},
   "source": [
    "y.ravel() 使列变行"
   ]
  },
  {
   "cell_type": "code",
   "execution_count": 58,
   "metadata": {},
   "outputs": [
    {
     "data": {
      "text/plain": [
       "(array([3.90601322]), array([3.04926495]))"
      ]
     },
     "execution_count": 58,
     "metadata": {},
     "output_type": "execute_result"
    }
   ],
   "source": [
    "sgd_reg.intercept_, sgd_reg.coef_"
   ]
  },
  {
   "cell_type": "markdown",
   "metadata": {},
   "source": [
    "## Polynomial Regression"
   ]
  },
  {
   "cell_type": "code",
   "execution_count": 59,
   "metadata": {},
   "outputs": [],
   "source": [
    "m = 100 \n",
    "X = 6 * np.random.rand(m, 1) - 3\n",
    "y = 0.5 * X**2 + X + 2 + np.random.randn(m, 1)"
   ]
  },
  {
   "cell_type": "code",
   "execution_count": 60,
   "metadata": {},
   "outputs": [
    {
     "data": {
      "text/plain": [
       "<matplotlib.collections.PathCollection at 0x19787250ac8>"
      ]
     },
     "execution_count": 60,
     "metadata": {},
     "output_type": "execute_result"
    },
    {
     "data": {
      "image/png": "[encoded data removed]",
      "text/plain": [
       "<Figure size 576x576 with 1 Axes>"
      ]
     },
     "metadata": {
      "needs_background": "light"
     },
     "output_type": "display_data"
    }
   ],
   "source": [
    "plt.figure(figsize=(8,8))\n",
    "plt.scatter(X,y)"
   ]
  },
  {
   "cell_type": "code",
   "execution_count": 61,
   "metadata": {},
   "outputs": [
    {
     "data": {
      "text/plain": [
       "array([[-2.24276549],\n",
       "       [ 1.93062787],\n",
       "       [ 2.93879213],\n",
       "       [ 1.90281726],\n",
       "       [-2.20528004]])"
      ]
     },
     "execution_count": 61,
     "metadata": {},
     "output_type": "execute_result"
    }
   ],
   "source": [
    "from sklearn.preprocessing import PolynomialFeatures \n",
    "poly_features = PolynomialFeatures(degree=2, include_bias=False) \n",
    "X_poly = poly_features.fit_transform(X)\n",
    "X[:5]"
   ]
  },
  {
   "cell_type": "code",
   "execution_count": 62,
   "metadata": {},
   "outputs": [
    {
     "data": {
      "text/plain": [
       "array([[-2.24276549,  5.02999704],\n",
       "       [ 1.93062787,  3.72732397],\n",
       "       [ 2.93879213,  8.6364992 ],\n",
       "       [ 1.90281726,  3.62071353],\n",
       "       [-2.20528004,  4.86326005]])"
      ]
     },
     "execution_count": 62,
     "metadata": {},
     "output_type": "execute_result"
    }
   ],
   "source": [
    "X_poly[:5]"
   ]
  },
  {
   "cell_type": "code",
   "execution_count": 63,
   "metadata": {},
   "outputs": [
    {
     "data": {
      "text/plain": [
       "(array([1.90201965]), array([[1.04427058, 0.5138275 ]]))"
      ]
     },
     "execution_count": 63,
     "metadata": {},
     "output_type": "execute_result"
    }
   ],
   "source": [
    "lin_reg = LinearRegression() \n",
    "lin_reg.fit(X_poly, y)\n",
    "lin_reg.intercept_, lin_reg.coef_"
   ]
  },
  {
   "cell_type": "markdown",
   "metadata": {},
   "source": [
    "### Plot learning curve"
   ]
  },
  {
   "cell_type": "markdown",
   "metadata": {},
   "source": [
    "# Useful"
   ]
  },
  {
   "cell_type": "code",
   "execution_count": 64,
   "metadata": {},
   "outputs": [],
   "source": [
    "from sklearn.metrics import mean_squared_error\n",
    "from sklearn.model_selection import train_test_split"
   ]
  },
  {
   "cell_type": "code",
   "execution_count": 65,
   "metadata": {},
   "outputs": [],
   "source": [
    "def plot_learning_curves(model, X, y):\n",
    "    X_train, X_val, y_train, y_val = train_test_split(X, y, test_size=0.2) #分训练和验证组\n",
    "    train_errors, val_errors = [], []  #记录error\n",
    "    for m in range(1, len(X_train)): # 在 m=1 到 训练集数据量\n",
    "        model.fit(X_train[:m], y_train[:m]) # 训练模型\n",
    "        y_train_predict = model.predict(X_train[:m]) #输出训练集预测结果\n",
    "        y_val_predict = model.predict(X_val) # 数据测试集训练结果\n",
    "        train_errors.append(mean_squared_error(y_train_predict, y_train[:m])) # 训练集mse\n",
    "        val_errors.append(mean_squared_error(y_val_predict, y_val)) # 测试集mse\n",
    "    plt.plot(np.sqrt(train_errors), \"r-+\", linewidth=2, label=\"train\") \n",
    "    plt.plot(np.sqrt(val_errors), \"b-\", linewidth=3, label=\"val\")"
   ]
  },
  {
   "cell_type": "markdown",
   "metadata": {},
   "source": [
    "#### With the train_set grow , the chages of error for train and test"
   ]
  },
  {
   "cell_type": "markdown",
   "metadata": {},
   "source": [
    "Train red, test blue"
   ]
  },
  {
   "cell_type": "code",
   "execution_count": 66,
   "metadata": {
    "scrolled": true
   },
   "outputs": [
    {
     "data": {
      "image/png": "[encoded data removed]",
      "text/plain": [
       "<Figure size 432x288 with 1 Axes>"
      ]
     },
     "metadata": {
      "needs_background": "light"
     },
     "output_type": "display_data"
    }
   ],
   "source": [
    "lin_reg = LinearRegression()\n",
    "plot_learning_curves(lin_reg, X, y)"
   ]
  },
  {
   "cell_type": "markdown",
   "metadata": {},
   "source": [
    "#### the learning curves of polynomial model"
   ]
  },
  {
   "cell_type": "markdown",
   "metadata": {},
   "source": [
    "By using pipeline"
   ]
  },
  {
   "cell_type": "code",
   "execution_count": 72,
   "metadata": {},
   "outputs": [
    {
     "data": {
      "text/plain": [
       "(0, 3)"
      ]
     },
     "execution_count": 72,
     "metadata": {},
     "output_type": "execute_result"
    },
    {
     "data": {
      "image/png": "[encoded data removed]",
      "text/plain": [
       "<Figure size 432x288 with 1 Axes>"
      ]
     },
     "metadata": {
      "needs_background": "light"
     },
     "output_type": "display_data"
    }
   ],
   "source": [
    "from sklearn.pipeline import Pipeline \n",
    "polynomial_regression = Pipeline((\n",
    "    (\"poly_features\", PolynomialFeatures(degree=2, include_bias=False)),\n",
    "    (\"sgd_reg\", LinearRegression()),\n",
    "))\n",
    "plot_learning_curves(polynomial_regression, X, y)\n",
    "plt.ylim(0,3)"
   ]
  },
  {
   "cell_type": "markdown",
   "metadata": {},
   "source": [
    "### Ridge Regressio(Tikhonov regularization)"
   ]
  },
  {
   "cell_type": "markdown",
   "metadata": {},
   "source": [
    "####  perform Ridge Regression with Scikit-Learn using a closed-form solu‐ tion"
   ]
  },
  {
   "cell_type": "code",
   "execution_count": 73,
   "metadata": {},
   "outputs": [
    {
     "data": {
      "text/plain": [
       "array([[5.1289736]])"
      ]
     },
     "execution_count": 73,
     "metadata": {},
     "output_type": "execute_result"
    }
   ],
   "source": [
    "from sklearn.linear_model import Ridge \n",
    "ridge_reg = Ridge(alpha=1, solver=\"cholesky\") \n",
    "ridge_reg.fit(X, y)\n",
    "ridge_reg.predict([[1.5]])"
   ]
  },
  {
   "cell_type": "markdown",
   "metadata": {},
   "source": [
    "#### Using SGD (same to set penalty as l2)"
   ]
  },
  {
   "cell_type": "code",
   "execution_count": 74,
   "metadata": {},
   "outputs": [
    {
     "name": "stderr",
     "output_type": "stream",
     "text": [
      "C:\\Software\\Anaconda3\\lib\\site-packages\\sklearn\\linear_model\\stochastic_gradient.py:166: FutureWarning: max_iter and tol parameters have been added in SGDRegressor in 0.19. If both are left unset, they default to max_iter=5 and tol=None. If tol is not None, max_iter defaults to max_iter=1000. From 0.21, default max_iter will be 1000, and default tol will be 1e-3.\n",
      "  FutureWarning)\n"
     ]
    },
    {
     "data": {
      "text/plain": [
       "array([4.39606942])"
      ]
     },
     "execution_count": 74,
     "metadata": {},
     "output_type": "execute_result"
    }
   ],
   "source": [
    "sgd_reg = SGDRegressor(penalty=\"l2\") \n",
    "sgd_reg.fit(X, y.ravel())\n",
    "sgd_reg.predict([[1.5]])"
   ]
  },
  {
   "cell_type": "markdown",
   "metadata": {},
   "source": [
    "## Lasso Regression(Least Absolute Shrinkage and Selection Operator Regression)"
   ]
  },
  {
   "cell_type": "markdown",
   "metadata": {},
   "source": [
    "### Scikit-Learn example using the Lasso class"
   ]
  },
  {
   "cell_type": "code",
   "execution_count": 75,
   "metadata": {},
   "outputs": [
    {
     "data": {
      "text/plain": [
       "array([5.09033339])"
      ]
     },
     "execution_count": 75,
     "metadata": {},
     "output_type": "execute_result"
    }
   ],
   "source": [
    "from sklearn.linear_model import Lasso \n",
    "lasso_reg = Lasso(alpha=0.1) \n",
    "lasso_reg.fit(X, y)\n",
    "lasso_reg.predict([[1.5]])"
   ]
  },
  {
   "cell_type": "markdown",
   "metadata": {},
   "source": [
    "#### Using SGD (same to set penalty as l1)\n"
   ]
  },
  {
   "cell_type": "code",
   "execution_count": 76,
   "metadata": {},
   "outputs": [
    {
     "name": "stderr",
     "output_type": "stream",
     "text": [
      "C:\\Software\\Anaconda3\\lib\\site-packages\\sklearn\\linear_model\\stochastic_gradient.py:166: FutureWarning: max_iter and tol parameters have been added in SGDRegressor in 0.19. If both are left unset, they default to max_iter=5 and tol=None. If tol is not None, max_iter defaults to max_iter=1000. From 0.21, default max_iter will be 1000, and default tol will be 1e-3.\n",
      "  FutureWarning)\n"
     ]
    },
    {
     "data": {
      "text/plain": [
       "array([4.3903065])"
      ]
     },
     "execution_count": 76,
     "metadata": {},
     "output_type": "execute_result"
    }
   ],
   "source": [
    "sgd_reg = SGDRegressor(penalty=\"l1\") \n",
    "sgd_reg.fit(X, y.ravel())\n",
    "sgd_reg.predict([[1.5]])"
   ]
  },
  {
   "cell_type": "markdown",
   "metadata": {},
   "source": [
    "### Elastic Net"
   ]
  },
  {
   "cell_type": "code",
   "execution_count": 77,
   "metadata": {},
   "outputs": [
    {
     "data": {
      "text/plain": [
       "array([5.08829577])"
      ]
     },
     "execution_count": 77,
     "metadata": {},
     "output_type": "execute_result"
    }
   ],
   "source": [
    "from sklearn.linear_model import ElasticNet\n",
    "elastic_net = ElasticNet(alpha=0.1, l1_ratio=0.5)\n",
    "elastic_net.fit(X, y)\n",
    "elastic_net.predict([[1.5]])"
   ]
  },
  {
   "cell_type": "markdown",
   "metadata": {},
   "source": [
    "### Early Stopping"
   ]
  },
  {
   "cell_type": "markdown",
   "metadata": {},
   "source": [
    "A very different way to regularize iterative learning algorithms"
   ]
  },
  {
   "cell_type": "code",
   "execution_count": 85,
   "metadata": {},
   "outputs": [],
   "source": [
    "def early_stop(X_train_poly_scaled,y_train,X_val_poly_scaled):\n",
    "    from sklearn.base import clone\n",
    "    sgd_reg = SGDRegressor(n_iter=1, warm_start=True, penalty=None, learning_rate=\"constant\", eta0=0.0005)\n",
    "    minimum_val_error = float(\"inf\")\n",
    "    best_epoch = None \n",
    "    best_model = None\n",
    "    for epoch in range(1000): \n",
    "        sgd_reg.fit(X_train_poly_scaled, y_train) # continues where it left off\n",
    "        y_val_predict = sgd_reg.predict(X_val_poly_scaled) \n",
    "        val_error = mean_squared_error(y_val_predict, y_val)\n",
    "        if val_error < minimum_val_error: \n",
    "            minimum_val_error = val_error\n",
    "            best_epoch = epoch\n",
    "            best_model = clone(sgd_reg)"
   ]
  },
  {
   "cell_type": "markdown",
   "metadata": {},
   "source": [
    "### Logistic Regressio"
   ]
  },
  {
   "cell_type": "code",
   "execution_count": 87,
   "metadata": {},
   "outputs": [
    {
     "data": {
      "text/plain": [
       "['data', 'target', 'target_names', 'DESCR', 'feature_names', 'filename']"
      ]
     },
     "execution_count": 87,
     "metadata": {},
     "output_type": "execute_result"
    }
   ],
   "source": [
    "from sklearn import datasets\n",
    "iris=datasets.load_iris()\n",
    "list(iris.keys())"
   ]
  },
  {
   "cell_type": "code",
   "execution_count": 89,
   "metadata": {},
   "outputs": [],
   "source": [
    "X = iris[\"data\"][:, 3:] # petal width\n",
    "y = (iris[\"target\"] == 2).astype(np.int)"
   ]
  },
  {
   "cell_type": "code",
   "execution_count": 93,
   "metadata": {},
   "outputs": [
    {
     "name": "stderr",
     "output_type": "stream",
     "text": [
      "C:\\Software\\Anaconda3\\lib\\site-packages\\sklearn\\linear_model\\logistic.py:433: FutureWarning: Default solver will be changed to 'lbfgs' in 0.22. Specify a solver to silence this warning.\n",
      "  FutureWarning)\n"
     ]
    },
    {
     "data": {
      "text/plain": [
       "LogisticRegression(C=1.0, class_weight=None, dual=False, fit_intercept=True,\n",
       "          intercept_scaling=1, max_iter=100, multi_class='warn',\n",
       "          n_jobs=None, penalty='l2', random_state=None, solver='warn',\n",
       "          tol=0.0001, verbose=0, warm_start=False)"
      ]
     },
     "execution_count": 93,
     "metadata": {},
     "output_type": "execute_result"
    }
   ],
   "source": [
    "from sklearn.linear_model import LogisticRegression\n",
    "log_reg = LogisticRegression() \n",
    "log_reg.fit(X, y)"
   ]
  },
  {
   "cell_type": "code",
   "execution_count": 96,
   "metadata": {},
   "outputs": [
    {
     "data": {
      "text/plain": [
       "[<matplotlib.lines.Line2D at 0x19788761e10>]"
      ]
     },
     "execution_count": 96,
     "metadata": {},
     "output_type": "execute_result"
    },
    {
     "data": {
      "image/png": "[encoded data removed]",
      "text/plain": [
       "<Figure size 432x288 with 1 Axes>"
      ]
     },
     "metadata": {
      "needs_background": "light"
     },
     "output_type": "display_data"
    }
   ],
   "source": [
    "X_new = np.linspace(0, 3, 1000).reshape(-1, 1)\n",
    "y_proba = log_reg.predict_proba(X_new)\n",
    "plt.plot(X_new, y_proba[:, 1], \"g-\", label=\"Iris-Virginica\") \n",
    "plt.plot(X_new, y_proba[:, 0], \"b--\", label=\"Not Iris-Virginica\")"
   ]
  },
  {
   "cell_type": "code",
   "execution_count": 97,
   "metadata": {},
   "outputs": [
    {
     "data": {
      "text/plain": [
       "array([[0.98554411, 0.01445589],\n",
       "       [0.98543168, 0.01456832],\n",
       "       [0.98531838, 0.01468162],\n",
       "       ...,\n",
       "       [0.02618938, 0.97381062],\n",
       "       [0.02598963, 0.97401037],\n",
       "       [0.02579136, 0.97420864]])"
      ]
     },
     "execution_count": 97,
     "metadata": {},
     "output_type": "execute_result"
    }
   ],
   "source": [
    "y_proba"
   ]
  },
  {
   "cell_type": "code",
   "execution_count": 98,
   "metadata": {},
   "outputs": [
    {
     "data": {
      "text/plain": [
       "array([1, 0])"
      ]
     },
     "execution_count": 98,
     "metadata": {},
     "output_type": "execute_result"
    }
   ],
   "source": [
    "log_reg.predict([[1.7], [1.5]])"
   ]
  },
  {
   "cell_type": "markdown",
   "metadata": {},
   "source": [
    "### Softmax Regression"
   ]
  },
  {
   "cell_type": "code",
   "execution_count": 99,
   "metadata": {},
   "outputs": [],
   "source": [
    "X = iris[\"data\"][:, (2, 3)] # petal length, petal width \n",
    "y = iris[\"target\"]"
   ]
  },
  {
   "cell_type": "code",
   "execution_count": 100,
   "metadata": {},
   "outputs": [
    {
     "data": {
      "text/plain": [
       "LogisticRegression(C=10, class_weight=None, dual=False, fit_intercept=True,\n",
       "          intercept_scaling=1, max_iter=100, multi_class='multinomial',\n",
       "          n_jobs=None, penalty='l2', random_state=None, solver='lbfgs',\n",
       "          tol=0.0001, verbose=0, warm_start=False)"
      ]
     },
     "execution_count": 100,
     "metadata": {},
     "output_type": "execute_result"
    }
   ],
   "source": [
    "softmax_reg = LogisticRegression(multi_class=\"multinomial\",solver=\"lbfgs\", C=10) \n",
    "softmax_reg.fit(X, y)"
   ]
  },
  {
   "cell_type": "code",
   "execution_count": 101,
   "metadata": {},
   "outputs": [
    {
     "data": {
      "text/plain": [
       "array([2])"
      ]
     },
     "execution_count": 101,
     "metadata": {},
     "output_type": "execute_result"
    }
   ],
   "source": [
    "softmax_reg.predict([[5, 2]])"
   ]
  },
  {
   "cell_type": "code",
   "execution_count": 102,
   "metadata": {},
   "outputs": [
    {
     "data": {
      "text/plain": [
       "array([[6.38014896e-07, 5.74929995e-02, 9.42506362e-01]])"
      ]
     },
     "execution_count": 102,
     "metadata": {},
     "output_type": "execute_result"
    }
   ],
   "source": [
    "softmax_reg.predict_proba([[5, 2]])"
   ]
  },
  {
   "cell_type": "code",
   "execution_count": null,
   "metadata": {},
   "outputs": [],
   "source": []
  }
 ],
 "metadata": {
  "kernelspec": {
   "display_name": "Python 3",
   "language": "python",
   "name": "python3"
  },
  "language_info": {
   "codemirror_mode": {
    "name": "ipython",
    "version": 3
   },
   "file_extension": ".py",
   "mimetype": "text/x-python",
   "name": "python",
   "nbconvert_exporter": "python",
   "pygments_lexer": "ipython3",
   "version": "3.7.0"
  }
 },
 "nbformat": 4,
 "nbformat_minor": 2
}
