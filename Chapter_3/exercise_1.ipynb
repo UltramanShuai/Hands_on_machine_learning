{
 "cells": [
  {
   "cell_type": "code",
   "execution_count": 1,
   "metadata": {},
   "outputs": [
    {
     "name": "stderr",
     "output_type": "stream",
     "text": [
      "C:\\Software\\Anaconda3\\lib\\site-packages\\ipykernel\\parentpoller.py:116: UserWarning: Parent poll failed.  If the frontend dies,\n",
      "                the kernel may be left running.  Please let us know\n",
      "                about your system (bitness, Python, etc.) at\n",
      "                ipython-dev@scipy.org\n",
      "  ipython-dev@scipy.org\"\"\")\n"
     ]
    }
   ],
   "source": [
    "from sklearn.datasets import fetch_openml\n",
    "mnist = fetch_openml('mnist_784', version=1, cache=True)"
   ]
  },
  {
   "cell_type": "code",
   "execution_count": 2,
   "metadata": {},
   "outputs": [],
   "source": [
    "X, y = mnist[\"data\"], mnist[\"target\"]"
   ]
  },
  {
   "cell_type": "code",
   "execution_count": 3,
   "metadata": {},
   "outputs": [
    {
     "data": {
      "text/plain": [
       "(70000, 784)"
      ]
     },
     "execution_count": 3,
     "metadata": {},
     "output_type": "execute_result"
    }
   ],
   "source": [
    "X.shape"
   ]
  },
  {
   "cell_type": "code",
   "execution_count": 4,
   "metadata": {},
   "outputs": [
    {
     "data": {
      "text/plain": [
       "(70000,)"
      ]
     },
     "execution_count": 4,
     "metadata": {},
     "output_type": "execute_result"
    }
   ],
   "source": [
    "y.shape"
   ]
  },
  {
   "cell_type": "code",
   "execution_count": 5,
   "metadata": {},
   "outputs": [],
   "source": [
    "X_train, X_test, y_train, y_test = X[:60000], X[60000:], y[:60000], y[60000:]"
   ]
  },
  {
   "cell_type": "code",
   "execution_count": 6,
   "metadata": {},
   "outputs": [],
   "source": [
    "X_train_1000,y_train_1000=X_train[:1000],y_train[:1000]"
   ]
  },
  {
   "cell_type": "code",
   "execution_count": 7,
   "metadata": {},
   "outputs": [
    {
     "data": {
      "text/plain": [
       "KNeighborsClassifier(algorithm='auto', leaf_size=30, metric='minkowski',\n",
       "           metric_params=None, n_jobs=None, n_neighbors=5, p=2,\n",
       "           weights='uniform')"
      ]
     },
     "execution_count": 7,
     "metadata": {},
     "output_type": "execute_result"
    }
   ],
   "source": [
    "# from sklearn.neighbors import KNeighborsClassifier\n",
    "# knn_clf = KNeighborsClassifier()\n",
    "# knn_clf.fit(X_train, y_train)"
   ]
  },
  {
   "cell_type": "code",
   "execution_count": 7,
   "metadata": {},
   "outputs": [
    {
     "data": {
      "text/plain": [
       "array([0.84821429, 0.87087087, 0.83987915])"
      ]
     },
     "execution_count": 7,
     "metadata": {},
     "output_type": "execute_result"
    }
   ],
   "source": [
    "from sklearn.neighbors import KNeighborsClassifier\n",
    "from sklearn.model_selection import cross_val_score \n",
    "knn_clf = KNeighborsClassifier()\n",
    "cross_val_score(knn_clf, X_train_1000, y_train_1000, cv=3, scoring=\"accuracy\")"
   ]
  },
  {
   "cell_type": "code",
   "execution_count": 8,
   "metadata": {},
   "outputs": [],
   "source": [
    "from sklearn.model_selection import cross_val_predict \n",
    "preidct_1000=cross_val_predict(knn_clf, X_train_1000, y_train_1000, cv=3)"
   ]
  },
  {
   "cell_type": "markdown",
   "metadata": {},
   "source": [
    "### grid serch"
   ]
  },
  {
   "cell_type": "code",
   "execution_count": 9,
   "metadata": {},
   "outputs": [
    {
     "name": "stderr",
     "output_type": "stream",
     "text": [
      "C:\\Software\\Anaconda3\\lib\\site-packages\\sklearn\\model_selection\\_search.py:841: DeprecationWarning: The default of the `iid` parameter will change from True to False in version 0.22 and will be removed in 0.24. This will change numeric results when test-set sizes are unequal.\n",
      "  DeprecationWarning)\n"
     ]
    },
    {
     "data": {
      "text/plain": [
       "GridSearchCV(cv=5, error_score='raise-deprecating',\n",
       "       estimator=KNeighborsClassifier(algorithm='auto', leaf_size=30, metric='minkowski',\n",
       "           metric_params=None, n_jobs=None, n_neighbors=5, p=2,\n",
       "           weights='uniform'),\n",
       "       fit_params=None, iid='warn', n_jobs=None,\n",
       "       param_grid=[{'n_neighbors': [2, 3, 5, 10, 20], 'weights': ['uniform', 'distance'], 'p': [1, 2, 3]}],\n",
       "       pre_dispatch='2*n_jobs', refit=True, return_train_score='warn',\n",
       "       scoring='accuracy', verbose=0)"
      ]
     },
     "execution_count": 9,
     "metadata": {},
     "output_type": "execute_result"
    }
   ],
   "source": [
    "from sklearn.model_selection import GridSearchCV \n",
    "param_grid = [ {'n_neighbors': [2,3, 5, 10,20],\n",
    "                'weights': [\"uniform\", \"distance\" ],\n",
    "               \"p\":[1,2,3]}, \n",
    "             ] \n",
    "knn_clf = KNeighborsClassifier()\n",
    "grid_search = GridSearchCV(knn_clf, param_grid, cv=5, scoring='accuracy')\n",
    "grid_search.fit(X_train_1000, y_train_1000)"
   ]
  },
  {
   "cell_type": "code",
   "execution_count": 10,
   "metadata": {
    "scrolled": true
   },
   "outputs": [
    {
     "data": {
      "text/plain": [
       "{'n_neighbors': 5, 'p': 3, 'weights': 'distance'}"
      ]
     },
     "execution_count": 10,
     "metadata": {},
     "output_type": "execute_result"
    }
   ],
   "source": [
    "grid_search.best_params_"
   ]
  },
  {
   "cell_type": "code",
   "execution_count": 11,
   "metadata": {},
   "outputs": [
    {
     "data": {
      "text/plain": [
       "array([0.84 , 0.855, 0.846, 0.864, 0.851, 0.865, 0.843, 0.854, 0.856,\n",
       "       0.859, 0.856, 0.857, 0.833, 0.841, 0.853, 0.864, 0.861, 0.866,\n",
       "       0.825, 0.827, 0.839, 0.85 , 0.842, 0.852, 0.786, 0.795, 0.806,\n",
       "       0.815, 0.813, 0.82 ])"
      ]
     },
     "execution_count": 11,
     "metadata": {},
     "output_type": "execute_result"
    }
   ],
   "source": [
    "grid_search.cv_results_[\"mean_test_score\"]"
   ]
  },
  {
   "cell_type": "code",
   "execution_count": 12,
   "metadata": {},
   "outputs": [
    {
     "data": {
      "text/plain": [
       "0.866"
      ]
     },
     "execution_count": 12,
     "metadata": {},
     "output_type": "execute_result"
    }
   ],
   "source": [
    "grid_search.best_score_"
   ]
  },
  {
   "cell_type": "code",
   "execution_count": 13,
   "metadata": {},
   "outputs": [],
   "source": [
    "X_train_1000,y_train_1000=X_train[:5000],y_train[:5000]"
   ]
  },
  {
   "cell_type": "code",
   "execution_count": 14,
   "metadata": {},
   "outputs": [
    {
     "data": {
      "text/plain": [
       "array([0.92215569, 0.93581284, 0.93144919])"
      ]
     },
     "execution_count": 14,
     "metadata": {},
     "output_type": "execute_result"
    }
   ],
   "source": [
    "cross_val_score(grid_search.best_estimator_, X_train_1000, y_train_1000, cv=3, scoring=\"accuracy\")"
   ]
  },
  {
   "cell_type": "code",
   "execution_count": null,
   "metadata": {},
   "outputs": [],
   "source": []
  },
  {
   "cell_type": "code",
   "execution_count": null,
   "metadata": {},
   "outputs": [],
   "source": []
  },
  {
   "cell_type": "code",
   "execution_count": 15,
   "metadata": {},
   "outputs": [],
   "source": [
    "best_fnn=grid_search.best_estimator_"
   ]
  },
  {
   "cell_type": "code",
   "execution_count": 16,
   "metadata": {},
   "outputs": [
    {
     "data": {
      "text/plain": [
       "KNeighborsClassifier(algorithm='auto', leaf_size=30, metric='minkowski',\n",
       "           metric_params=None, n_jobs=None, n_neighbors=5, p=3,\n",
       "           weights='distance')"
      ]
     },
     "execution_count": 16,
     "metadata": {},
     "output_type": "execute_result"
    }
   ],
   "source": [
    "best_fnn.fit(X_train,y_train)"
   ]
  },
  {
   "cell_type": "code",
   "execution_count": 17,
   "metadata": {},
   "outputs": [],
   "source": [
    "predict_test=best_fnn.predict(X_test[:1000])"
   ]
  },
  {
   "cell_type": "code",
   "execution_count": 18,
   "metadata": {},
   "outputs": [
    {
     "data": {
      "text/plain": [
       "array(['7', '2', '1', '0', '4', '1', '4', '9', '5', '9', '0', '6', '9',\n",
       "       '0', '1', '5', '9', '7', '3', '4', '9', '6', '6', '5', '4', '0',\n",
       "       '7', '4', '0', '1', '3', '1', '3', '0', '7', '2', '7', '1', '2',\n",
       "       '1', '1', '7', '4', '2', '3', '5', '1', '2', '4', '4', '6', '3',\n",
       "       '5', '5', '6', '0', '4', '1', '9', '5', '7', '8', '9', '3', '7',\n",
       "       '4', '6', '4', '3', '0', '7', '0', '2', '9', '1', '7', '3', '2',\n",
       "       '9', '7', '7', '6', '2', '7', '8', '4', '7', '3', '6', '1', '3',\n",
       "       '6', '9', '3', '1', '4', '1', '7', '6', '9', '6', '0', '5', '4',\n",
       "       '9', '9', '2', '1', '9', '4', '8', '7', '3', '9', '7', '9', '4',\n",
       "       '4', '9', '2', '5', '4', '7', '6', '7', '9', '0', '5', '8', '5',\n",
       "       '6', '6', '5', '7', '8', '1', '0', '1', '6', '4', '6', '7', '3',\n",
       "       '1', '7', '1', '8', '2', '0', '2', '9', '9', '5', '5', '1', '5',\n",
       "       '6', '0', '3', '4', '4', '6', '5', '4', '6', '5', '4', '5', '1',\n",
       "       '4', '4', '7', '2', '3', '2', '7', '1', '8', '1', '8', '1', '8',\n",
       "       '5', '0', '8', '9', '2', '5', '0', '1', '1', '1', '0', '9', '0',\n",
       "       '5', '1', '6', '4', '2', '3', '6', '1', '1', '1', '3', '9', '5',\n",
       "       '2', '9', '4', '5', '9', '3', '9', '0', '3', '6', '5', '5', '7',\n",
       "       '2', '2', '7', '1', '2', '8', '4', '1', '7', '3', '3', '8', '8',\n",
       "       '7', '9', '2', '2', '4', '1', '5', '8', '8', '7', '2', '3', '0',\n",
       "       '6', '4', '2', '4', '1', '9', '5', '7', '7', '2', '8', '2', '6',\n",
       "       '8', '5', '7', '7', '9', '1', '8', '1', '8', '0', '3', '0', '1',\n",
       "       '9', '9', '4', '1', '8', '2', '1', '2', '9', '7', '5', '9', '2',\n",
       "       '6', '4', '1', '5', '8', '2', '9', '2', '0', '4', '0', '0', '2',\n",
       "       '8', '1', '7', '1', '2', '4', '0', '2', '7', '4', '3', '3', '0',\n",
       "       '0', '3', '1', '9', '6', '5', '2', '5', '7', '7', '9', '3', '0',\n",
       "       '4', '2', '0', '7', '1', '1', '2', '1', '5', '3', '3', '9', '7',\n",
       "       '8', '6', '5', '4', '1', '3', '8', '1', '0', '5', '1', '3', '1',\n",
       "       '5', '5', '6', '1', '8', '5', '1', '4', '9', '4', '6', '2', '2',\n",
       "       '5', '0', '6', '5', '6', '3', '7', '2', '0', '8', '8', '5', '4',\n",
       "       '1', '1', '4', '0', '7', '3', '7', '6', '1', '6', '2', '1', '9',\n",
       "       '2', '8', '6', '1', '9', '5', '2', '5', '4', '4', '2', '8', '3',\n",
       "       '8', '2', '4', '5', '0', '3', '1', '7', '7', '5', '7', '9', '7',\n",
       "       '1', '9', '2', '1', '4', '2', '9', '2', '0', '4', '9', '1', '4',\n",
       "       '8', '1', '8', '4', '5', '9', '8', '8', '3', '7', '6', '0', '0',\n",
       "       '3', '0', '8', '0', '6', '4', '9', '3', '3', '3', '2', '3', '9',\n",
       "       '1', '2', '6', '8', '0', '5', '6', '6', '6', '7', '8', '8', '2',\n",
       "       '7', '5', '8', '9', '6', '1', '8', '4', '1', '2', '5', '9', '1',\n",
       "       '9', '7', '5', '4', '0', '8', '9', '9', '1', '0', '5', '2', '3',\n",
       "       '7', '0', '9', '4', '0', '6', '3', '9', '5', '2', '1', '3', '1',\n",
       "       '3', '6', '5', '7', '4', '2', '2', '6', '3', '2', '6', '5', '4',\n",
       "       '8', '9', '7', '1', '3', '0', '3', '8', '3', '1', '9', '3', '4',\n",
       "       '4', '6', '4', '2', '1', '8', '2', '5', '4', '1', '8', '4', '0',\n",
       "       '0', '2', '3', '2', '7', '1', '0', '8', '7', '4', '4', '7', '9',\n",
       "       '6', '9', '0', '9', '8', '0', '4', '6', '0', '6', '3', '5', '4',\n",
       "       '8', '3', '3', '9', '3', '3', '3', '7', '8', '0', '3', '7', '1',\n",
       "       '7', '0', '6', '5', '4', '3', '8', '0', '9', '6', '3', '8', '0',\n",
       "       '9', '9', '6', '8', '6', '8', '5', '7', '8', '6', '0', '2', '4',\n",
       "       '0', '2', '2', '3', '1', '9', '7', '5', '1', '0', '8', '4', '6',\n",
       "       '2', '6', '7', '9', '3', '2', '9', '8', '2', '2', '9', '2', '7',\n",
       "       '3', '5', '9', '1', '8', '0', '2', '0', '5', '6', '1', '3', '7',\n",
       "       '6', '7', '1', '2', '5', '8', '0', '3', '7', '7', '4', '0', '9',\n",
       "       '1', '8', '6', '7', '7', '4', '3', '4', '9', '1', '9', '5', '1',\n",
       "       '7', '3', '9', '7', '6', '9', '1', '3', '7', '8', '3', '3', '6',\n",
       "       '7', '2', '8', '5', '8', '5', '1', '1', '4', '4', '3', '1', '0',\n",
       "       '7', '7', '0', '7', '9', '9', '4', '8', '5', '5', '4', '0', '8',\n",
       "       '2', '1', '0', '8', '4', '5', '0', '4', '0', '6', '1', '7', '3',\n",
       "       '2', '6', '7', '2', '6', '9', '3', '1', '4', '6', '2', '5', '9',\n",
       "       '2', '0', '6', '2', '1', '7', '3', '4', '1', '0', '5', '4', '3',\n",
       "       '1', '1', '7', '4', '9', '9', '4', '8', '4', '0', '2', '4', '5',\n",
       "       '1', '1', '6', '4', '7', '1', '9', '4', '2', '4', '1', '5', '5',\n",
       "       '3', '8', '3', '1', '4', '5', '6', '8', '9', '4', '1', '9', '3',\n",
       "       '8', '0', '3', '2', '5', '1', '2', '8', '3', '4', '4', '0', '8',\n",
       "       '8', '3', '3', '1', '7', '3', '5', '9', '6', '3', '2', '6', '1',\n",
       "       '3', '6', '0', '7', '2', '1', '7', '1', '4', '2', '4', '2', '1',\n",
       "       '7', '9', '6', '1', '1', '2', '4', '3', '1', '7', '7', '4', '3',\n",
       "       '0', '7', '3', '1', '3', '1', '0', '7', '7', '0', '3', '5', '5',\n",
       "       '2', '7', '6', '6', '9', '2', '8', '3', '5', '2', '2', '5', '6',\n",
       "       '0', '8', '2', '9', '2', '8', '8', '8', '8', '7', '4', '9', '3',\n",
       "       '0', '6', '6', '3', '2', '1', '3', '2', '2', '9', '3', '0', '0',\n",
       "       '5', '7', '8', '1', '4', '4', '6', '0', '2', '9', '1', '4', '7',\n",
       "       '4', '7', '3', '9', '8', '8', '4', '7', '1', '2', '1', '2', '2',\n",
       "       '3', '7', '3', '2', '3', '9', '1', '7', '4', '0', '3', '5', '5',\n",
       "       '8', '6', '5', '2', '6', '7', '6', '6', '3', '2', '7', '9', '1',\n",
       "       '1', '7', '4', '6', '4', '9', '5', '1', '5', '3', '4', '7', '8',\n",
       "       '9', '1', '1', '6', '9', '1', '4', '4', '5', '4', '0', '6', '2',\n",
       "       '2', '3', '1', '5', '1', '2', '0', '3', '8', '1', '2', '6', '7',\n",
       "       '1', '6', '2', '3', '9', '0', '1', '2', '2', '0', '8', '9'],\n",
       "      dtype=object)"
      ]
     },
     "execution_count": 18,
     "metadata": {},
     "output_type": "execute_result"
    }
   ],
   "source": [
    "predict_test"
   ]
  },
  {
   "cell_type": "code",
   "execution_count": 20,
   "metadata": {},
   "outputs": [
    {
     "data": {
      "text/plain": [
       "0.969"
      ]
     },
     "execution_count": 20,
     "metadata": {},
     "output_type": "execute_result"
    }
   ],
   "source": [
    "from sklearn.metrics import accuracy_score\n",
    "accuracy_score(y_test[:1000], predict_test)"
   ]
  },
  {
   "cell_type": "code",
   "execution_count": 21,
   "metadata": {},
   "outputs": [
    {
     "data": {
      "text/plain": [
       "array([[ 85,   0,   0,   0,   0,   0,   0,   0,   0,   0],\n",
       "       [  0, 126,   0,   0,   0,   0,   0,   0,   0,   0],\n",
       "       [  0,   0, 110,   0,   0,   0,   1,   4,   1,   0],\n",
       "       [  0,   0,   0, 102,   0,   3,   0,   2,   0,   0],\n",
       "       [  1,   1,   0,   0, 104,   0,   1,   0,   0,   3],\n",
       "       [  0,   0,   0,   0,   1,  85,   0,   0,   0,   1],\n",
       "       [  1,   0,   0,   0,   1,   0,  85,   0,   0,   0],\n",
       "       [  0,   1,   0,   0,   1,   0,   0,  97,   0,   0],\n",
       "       [  1,   1,   0,   3,   0,   0,   0,   0,  83,   1],\n",
       "       [  0,   0,   0,   0,   0,   0,   0,   1,   1,  92]], dtype=int64)"
      ]
     },
     "execution_count": 21,
     "metadata": {},
     "output_type": "execute_result"
    }
   ],
   "source": [
    "from sklearn.metrics import confusion_matrix\n",
    "con_mx=confusion_matrix(y_test[:1000], predict_test)\n",
    "con_mx"
   ]
  },
  {
   "cell_type": "code",
   "execution_count": 22,
   "metadata": {},
   "outputs": [],
   "source": [
    "import matplotlib\n",
    "import matplotlib.pyplot as plt\n",
    "%matplotlib inline"
   ]
  },
  {
   "cell_type": "code",
   "execution_count": 24,
   "metadata": {},
   "outputs": [
    {
     "data": {
      "image/png": "[encoded data removed]",
      "text/plain": [
       "<Figure size 288x288 with 1 Axes>"
      ]
     },
     "metadata": {
      "needs_background": "light"
     },
     "output_type": "display_data"
    }
   ],
   "source": [
    "plt.matshow(con_mx, cmap=plt.cm.gray)\n",
    "plt.show()"
   ]
  },
  {
   "cell_type": "code",
   "execution_count": 30,
   "metadata": {},
   "outputs": [
    {
     "data": {
      "image/png": "[encoded data removed]",
      "text/plain": [
       "<Figure size 288x288 with 1 Axes>"
      ]
     },
     "metadata": {
      "needs_background": "light"
     },
     "output_type": "display_data"
    }
   ],
   "source": [
    "plt.matshow(con_mx/con_mx.sum(axis=1), cmap=plt.cm.gray)\n",
    "plt.show()"
   ]
  },
  {
   "cell_type": "code",
   "execution_count": null,
   "metadata": {},
   "outputs": [],
   "source": []
  }
 ],
 "metadata": {
  "kernelspec": {
   "display_name": "Python 3",
   "language": "python",
   "name": "python3"
  },
  "language_info": {
   "codemirror_mode": {
    "name": "ipython",
    "version": 3
   },
   "file_extension": ".py",
   "mimetype": "text/x-python",
   "name": "python",
   "nbconvert_exporter": "python",
   "pygments_lexer": "ipython3",
   "version": "3.7.0"
  }
 },
 "nbformat": 4,
 "nbformat_minor": 2
}
